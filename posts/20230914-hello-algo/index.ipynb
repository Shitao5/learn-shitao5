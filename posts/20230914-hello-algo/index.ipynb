{
 "cells": [
  {
   "cell_type": "raw",
   "source": [
    "---\n",
    "title: \"Hello 算法\"\n",
    "subtitle: \"动画图解、一键运行的数据结构与算法教程\"\n",
    "date: \"2023-09-14\"\n",
    "date-modified: \"2023-09-16\"\n",
    "image: \"cover.png\"\n",
    "categories:\n",
    "  - Computer Science\n",
    "  - Python\n",
    "---"
   ],
   "metadata": {
    "collapsed": false
   }
  },
  {
   "cell_type": "markdown",
   "source": [
    "::: {.callout-note title='Progress'}\n",
    "<!-- `r stfun::progress(5.1, 16)` -->\n",
    "Learning Progress: 31.87%.\n",
    ":::\n",
    "\n",
    "::: {.callout-tip title=\"Learning Source\"}\n",
    "- <https://www.hello-algo.com/>\n",
    "- <https://github.com/krahets/hello-algo>\n",
    ":::"
   ],
   "metadata": {
    "collapsed": false
   }
  },
  {
   "cell_type": "markdown",
   "source": [
    "# 初识算法\n",
    "\n",
    "- 实际上，许多算法并不涉及复杂数学，而是更多地依赖于基本逻辑，这些逻辑在我们的日常生活中处处可见。\n",
    "\n",
    "- 「算法 algorithm」是在有限时间内解决特定问题的一组指令或操作步骤，它具有以下特性。\n",
    "\n",
    "    - 问题是明确的，包含清晰的输入和输出定义。\n",
    "\n",
    "    - 具有可行性，能够在有限步骤、时间和内存空间下完成。\n",
    "\n",
    "    - 各步骤都有确定的含义，相同的输入和运行条件下，输出始终相同。\n",
    "\n",
    "- 「数据结构 data structure」是计算机中组织和存储数据的方式，具有以下设计目标。\n",
    "\n",
    "    - 空间占用尽量减少，节省计算机内存。\n",
    "\n",
    "    - 数据操作尽可能快速，涵盖数据访问、添加、删除、更新等。\n",
    "\n",
    "    - 提供简洁的数据表示和逻辑信息，以便使得算法高效运行。\n",
    "\n",
    "- 数据结构与算法高度相关、紧密结合，具体表现以下三个方面。\n",
    "\n",
    "    - 数据结构是算法的基石。数据结构为算法提供了结构化存储的数据，以及用于操作数据的方法。\n",
    "\n",
    "    - 算法是数据结构发挥作用的舞台。数据结构本身仅存储数据信息，结合算法才能解决特定问题。\n",
    "\n",
    "    - 算法通常可以基于不同的数据结构进行实现，但执行效率可能相差很大，选择合适的数据结构是关键。\n",
    "\n",
    "- 数据结构与算法是独立于编程语言的。\n",
    "\n",
    "- 在实际讨论时，我们通常会将“数据结构与算法”简称为“算法”。比如众所周知的 LeetCode 算法题目，实际上同时考察了数据结构和算法两方面的知识。"
   ],
   "metadata": {
    "collapsed": false
   }
  },
  {
   "cell_type": "markdown",
   "source": [
    "# 复杂度分析\n",
    "\n",
    "## 算法与效率评估\n",
    "\n",
    "- 复杂度分析体现算法运行所需的时间（空间）资源与输入数据大小之间的关系。**它描述了随着输入数据大小的增加，算法执行所需时间和空间的增长趋势**。这个定义有些拗口，我们可以将其分为三个重点来理解。\n",
    "\n",
    "    - “时间和空间资源”分别对应「时间复杂度 time complexity」和「空间复杂度 space complexity」。\n",
    "\n",
    "    - “随着输入数据大小的增加”意味着复杂度反映了算法运行效率与输入数据体量之间的关系。\n",
    "\n",
    "    - “时间和空间的增长趋势”表示复杂度分析关注的不是运行时间或占用空间的具体值，而是时间或空间增长的“快慢”。\n",
    "\n",
    "- **复杂度分析克服了实际测试方法的弊端**，体现在以下两个方面。\n",
    "\n",
    "    - 它独立于测试环境，分析结果适用于所有运行平台。\n",
    "\n",
    "    - 它可以体现不同数据量下的算法效率，尤其是在大数据量下的算法性能。\n",
    "\n",
    "## 迭代与递归\n",
    "\n",
    "在数据结构与算法中，重复执行某个任务是很常见的，其与算法的复杂度密切相关。而要重复执行某个任务，我们通常会选用两种基本的程序结构：迭代和递归。\n",
    "\n",
    "### 迭代\n",
    "\n",
    "「迭代 iteration」是一种重复执行某个任务的控制结构。在迭代中，程序会在满足一定的条件下重复执行某段代码，直到这个条件不再满足。"
   ],
   "metadata": {
    "collapsed": false
   }
  },
  {
   "cell_type": "code",
   "execution_count": 1,
   "outputs": [],
   "source": [
    "def for_loop(n: int) -> int:\n",
    "    \"\"\"for 循环\"\"\"\n",
    "    res = 0\n",
    "    # 循环求和 1, 2, ..., n-1, n\n",
    "    for i in range(1, n + 1):\n",
    "        res += i\n",
    "    return res"
   ],
   "metadata": {
    "collapsed": false,
    "ExecuteTime": {
     "end_time": "2023-09-17T14:19:54.732289400Z",
     "start_time": "2023-09-17T14:19:53.810279400Z"
    }
   }
  },
  {
   "cell_type": "code",
   "execution_count": 2,
   "outputs": [],
   "source": [
    "def while_loop(n: int) -> int:\n",
    "    \"\"\"while 循环\"\"\"\n",
    "    res = 0\n",
    "    i = 1   # 初始化条件变量\n",
    "    # 循环球和 1, 2, ..., n-1, n\n",
    "    while i <= n:\n",
    "        res += i\n",
    "        i += 1  # 更新条件变量\n",
    "    return res"
   ],
   "metadata": {
    "collapsed": false,
    "ExecuteTime": {
     "end_time": "2023-09-17T14:19:54.732831700Z",
     "start_time": "2023-09-17T14:19:53.817674200Z"
    }
   }
  },
  {
   "cell_type": "markdown",
   "source": [
    "在 `while` 循环中，由于初始化和更新条件变量的步骤是独立在循环结构之外的，**因此它比 `for` 循环的自由度更高**。例如在以下代码中，条件变量 $i$ 每轮进行了两次更新，这种情况就不太方便用 `for` 循环实现。"
   ],
   "metadata": {
    "collapsed": false
   }
  },
  {
   "cell_type": "code",
   "execution_count": 3,
   "outputs": [],
   "source": [
    "def while_loop_li(n: int) -> int:\n",
    "    \"\"\"while 循环（两次更新）\"\"\"\n",
    "    res = 0\n",
    "    i = 1\n",
    "    # 循环求和 1, 4, ...\n",
    "    while i <= n:\n",
    "        res += i\n",
    "        i += 1\n",
    "        i *= 2\n",
    "    return res"
   ],
   "metadata": {
    "collapsed": false,
    "ExecuteTime": {
     "end_time": "2023-09-17T14:19:54.749472800Z",
     "start_time": "2023-09-17T14:19:53.822854700Z"
    }
   }
  },
  {
   "cell_type": "markdown",
   "source": [
    "总的来说，**`for` 循环的代码更加紧凑，`while` 循环更加灵活**，两者都可以实现迭代结构。选择使用哪一个应该根据特定问题的需求来决定。"
   ],
   "metadata": {
    "collapsed": false
   }
  },
  {
   "cell_type": "code",
   "execution_count": 4,
   "outputs": [],
   "source": [
    "def nested_for_loop(n: int) -> str:\n",
    "    \"\"\"双层 for 循环\"\"\"\n",
    "    res = \"\"\n",
    "    for i in range(1, n + 1):\n",
    "        for j in range(1, n + 1):\n",
    "            res += f\"({i}, {j}), \"\n",
    "    return res"
   ],
   "metadata": {
    "collapsed": false,
    "ExecuteTime": {
     "end_time": "2023-09-17T14:19:54.750475300Z",
     "start_time": "2023-09-17T14:19:53.831510700Z"
    }
   }
  },
  {
   "cell_type": "markdown",
   "source": [
    "### 递归\n",
    "\n",
    "「递归 recursion」是一种算法策略，通过函数调用自身来解决问题。它主要包含两个阶段。\n",
    "\n",
    "1. **递**：程序不断深入地调用自身，通常传入更小或更简化的参数，直到达到“终止条件”。\n",
    "\n",
    "2. **归**：触发“终止条件”后，程序从最深层的递归函数开始逐层返回，汇聚每一层的结果。\n",
    "\n",
    "而从实现的角度看，递归代码主要包含三个要素。\n",
    "\n",
    "1. **终止条件**：用于决定什么时候由“递”转“归”。\n",
    "\n",
    "2. **递归调用**：对应“递”，函数调用自身，通常输入更小或更简化的参数。\n",
    "\n",
    "3. **返回结果**：对应“归”，将当前递归层级的结果返回至上一层。"
   ],
   "metadata": {
    "collapsed": false
   }
  },
  {
   "cell_type": "code",
   "execution_count": 5,
   "outputs": [],
   "source": [
    "def recur(n: int) -> int:\n",
    "    \"\"\"递归\"\"\"\n",
    "    # 终止条件\n",
    "    if n == 1:\n",
    "        return 1\n",
    "    # 递：递归调用\n",
    "    res = recur(n - 1)\n",
    "    # 归：返回结果\n",
    "    return n + res"
   ],
   "metadata": {
    "collapsed": false,
    "ExecuteTime": {
     "end_time": "2023-09-17T14:19:54.750475300Z",
     "start_time": "2023-09-17T14:19:53.841509Z"
    }
   }
  },
  {
   "cell_type": "markdown",
   "source": [
    "虽然从计算角度看，迭代与递归可以得到相同的结果，**但它们代表了两种完全不同的思考和解决问题的范式**。\n",
    "\n",
    "- **迭代**：“自下而上”地解决问题。从最基础的步骤开始，然后不断重复或累加这些步骤，直到任务完成。\n",
    "\n",
    "- **递归**：“自上而下”地解决问题。将原问题分解为更小的子问题，这些子问题和原问题具有相同的形式。接下来将子问题继续分解为更小的子问题，直到基本情况时停止（基本情况的解是已知的）。\n",
    "\n",
    "以上述的求和函数为例，设问题 $f(n) = 1 + 2 + \\dots + n$ 。\n",
    "\n",
    "- **迭代**：在循环中模拟求和过程，从 $1$ 遍历到 $n$ ，每轮执行求和操作，即可求得 $f(n)$ 。\n",
    "\n",
    "- **递归**：将问题分解为子问题 $f(n) = n + f(n-1)$ ，不断（递归地）分解下去，直至基本情况 $f(0) = 0$ 时终止。"
   ],
   "metadata": {
    "collapsed": false
   }
  },
  {
   "cell_type": "markdown",
   "source": [
    "递归函数每次调用自身时，系统都会为新开启的函数分配内存，以存储局部变量、调用地址和其他信息等。这将导致两方面的结果。\n",
    "\n",
    "- 函数的上下文数据都存储在称为“栈帧空间”的内存区域中，直至函数返回后才会被释放。因此，**递归通常比迭代更加耗费内存空间**。\n",
    "\n",
    "- 递归调用函数会产生额外的开销。**因此递归通常比循环的时间效率更低**。\n",
    "\n",
    "在实际中，编程语言允许的递归深度通常是有限的，过深的递归可能导致栈溢出报错。有趣的是，**如果函数在返回前的最后一步才进行递归调用**，则该函数可以被编译器或解释器优化，使其在空间效率上与迭代相当。这种情况被称为「尾递归 tail recursion」。\n",
    "\n",
    "- **普通递归**：当函数返回到上一层级的函数后，需要继续执行代码，因此系统需要保存上一层调用的上下文。\n",
    "\n",
    "- **尾递归**：递归调用是函数返回前的最后一个操作，这意味着函数返回到上一层级后，无需继续执行其他操作，因此系统无需保存上一层函数的上下文。"
   ],
   "metadata": {
    "collapsed": false
   }
  },
  {
   "cell_type": "code",
   "execution_count": 6,
   "outputs": [],
   "source": [
    "def tail_recur(n, res):\n",
    "    \"\"\"尾递归\"\"\"\n",
    "    # 终止条件\n",
    "    if n == 0:\n",
    "        return res\n",
    "    # 尾递归调用\n",
    "    return tail_recur(n - 1, res + n)"
   ],
   "metadata": {
    "collapsed": false,
    "ExecuteTime": {
     "end_time": "2023-09-17T14:19:54.751475Z",
     "start_time": "2023-09-17T14:19:53.848955400Z"
    }
   }
  },
  {
   "cell_type": "markdown",
   "source": [
    "对比普通递归和尾递归，求和操作的执行点是不同的。\n",
    "\n",
    "- **普通递归**：求和操作是在“归”的过程中执行的，每层返回后都要再执行一次求和操作。\n",
    "\n",
    "- **尾递归**：求和操作是在“递”的过程中执行的，“归”的过程只需层层返回。"
   ],
   "metadata": {
    "collapsed": false
   }
  },
  {
   "cell_type": "code",
   "execution_count": 7,
   "outputs": [],
   "source": [
    "def fib(n: int) -> int:\n",
    "    \"\"\"菲波那切数列\"\"\"\n",
    "    # 终止条件 f(1) = 0, f(2) = 1\n",
    "    if n == 1 or n == 2:\n",
    "        return n - 1\n",
    "    # 递归调用 f(n) = f(n-1) + f(n-2)\n",
    "    res = fib(n - 1) + fib(n - 2)\n",
    "    # 返回结果 f(n)\n",
    "    return res"
   ],
   "metadata": {
    "collapsed": false,
    "ExecuteTime": {
     "end_time": "2023-09-17T14:19:54.751475Z",
     "start_time": "2023-09-17T14:19:53.859103100Z"
    }
   }
  },
  {
   "cell_type": "markdown",
   "source": [
    "本质上看，递归体现“将问题分解为更小子问题”的思维范式，这种分治策略是至关重要的。\n",
    "\n",
    "- 从算法角度看，搜索、排序、回溯、分治、动态规划等许多重要算法策略都直接或间接地应用这种思维方式。\n",
    "\n",
    "- 从数据结构角度看，递归天然适合处理链表、树和图的相关问题，因为它们非常适合用分治思想进行分析。"
   ],
   "metadata": {
    "collapsed": false
   }
  },
  {
   "cell_type": "markdown",
   "source": [
    "那么，迭代和递归具有什么内在联系呢？以上述的递归函数为例，求和操作在递归的“归”阶段进行。这意味着最初被调用的函数实际上是最后完成其求和操作的，**这种工作机制与栈的“先入后出”原则是异曲同工的**。\n",
    "\n",
    "事实上，“调用栈”和“栈帧空间”这类递归术语已经暗示了递归与栈之间的密切关系。\n",
    "\n",
    "1. **递**：当函数被调用时，系统会在“调用栈”上为该函数分配新的栈帧，用于存储函数的局部变量、参数、返回地址等数据。\n",
    "\n",
    "2. **归**：当函数完成执行并返回时，对应的栈帧会从“调用栈”上被移除，恢复之前函数的执行环境。\n",
    "\n",
    "因此，**我们可以使用一个显式的栈来模拟调用栈的行为**，从而将递归转化为迭代形式："
   ],
   "metadata": {
    "collapsed": false
   }
  },
  {
   "cell_type": "code",
   "execution_count": 8,
   "outputs": [],
   "source": [
    "def for_loop_recur(n: int) -> int:\n",
    "    \"\"\"使用迭代模拟递归\"\"\"\n",
    "    # 使用一个显式的栈来模拟系统调用栈\n",
    "    stack = []\n",
    "    res = 0\n",
    "    # 递：递归调用\n",
    "    for i in range(n, 0, -1):\n",
    "        # 通过“入栈操作”模拟“递”\n",
    "        stack.append(i)\n",
    "    # 归：返回结果\n",
    "    while stack:\n",
    "        # 通过“出栈操作”模拟“归”\n",
    "        res += stack.pop()\n",
    "    # res = 1 + 2 + 3 + ... + n\n",
    "    return res"
   ],
   "metadata": {
    "collapsed": false,
    "ExecuteTime": {
     "end_time": "2023-09-17T14:19:54.751475Z",
     "start_time": "2023-09-17T14:19:53.864867500Z"
    }
   }
  },
  {
   "cell_type": "markdown",
   "source": [
    "## 时间复杂度\n",
    "\n",
    "时间复杂度分析本质上是计算“操作数量函数 $T(n)$”的渐近上界，其具有明确的数学定义：\n",
    "\n",
    "若存在正实数 $c$ 和实数 $n_0$ ，使得对于所有的 $n > n_0$ ，均有 $T(n) \\leq c \\cdot f(n)$ ，则可认为 $f(n)$ 给出了 $T(n)$ 的一个渐近上界，记为 $T(n) = O(f(n))$ 。\n",
    "\n",
    "计算渐近上界就是寻找一个函数 $f(n)$ ，使得当 $n$ 趋向于无穷大时，$T(n)$ 和 $f(n)$ 处于相同的增长级别，仅相差一个常数项 $c$ 的倍数。\n",
    "\n",
    "**时间复杂度由多项式 $T(n)$ 中最高阶的项来决定**。这是因为在 $n$ 趋于无穷大时，最高阶的项将发挥主导作用，其他项的影响都可以被忽略。\n",
    "\n",
    "## 空间复杂度\n",
    "\n",
    "「空间复杂度 space complexity」用于衡量算法占用内存空间随着数据量变大时的增长趋势。这个概念与时间复杂度非常类似，只需将“运行时间”替换为“占用内存空间”。\n",
    "\n",
    "算法在运行过程中使用的内存空间主要包括以下几种。\n",
    "\n",
    "- **输入空间**：用于存储算法的输入数据。\n",
    "\n",
    "- **暂存空间**：用于存储算法在运行过程中的变量、对象、函数上下文等数据。\n",
    "\n",
    "    - **暂存数据**：用于保存算法运行过程中的各种常量、变量、对象等。\n",
    "\n",
    "    - **栈帧空间**：用于保存调用函数的上下文数据。系统在每次调用函数时都会在栈顶部创建一个栈帧，函数返回后，栈帧空间会被释放。\n",
    "\n",
    "    - **指令空间**：用于保存编译后的程序指令，在实际统计中通常忽略不计。\n",
    "\n",
    "- **输出空间**：用于存储算法的输出数据。\n",
    "\n",
    "一般情况下，空间复杂度的统计范围是“暂存空间”加上“输出空间”。在分析一段程序的空间复杂度时，**我们通常统计暂存数据、栈帧空间和输出数据三部分**。\n",
    "\n",
    "与时间复杂度不同的是，**我们通常只关注最差空间复杂度**。这是因为内存空间是一项硬性要求，我们必须确保在所有输入数据下都有足够的内存空间预留。\n",
    "\n",
    "观察以下代码，最差空间复杂度中的“最差”有两层含义。\n",
    "\n",
    "1. **以最差输入数据为准**：当 $n < 10$ 时，空间复杂度为 $O(1)$ ；但当 $n > 10$ 时，初始化的数组 `nums` 占用 $O(n)$ 空间；因此最差空间复杂度为 $O(n)$ 。\n",
    "\n",
    "2. **以算法运行中的峰值内存为准**：例如，程序在执行最后一行之前，占用 $O(1)$ 空间；当初始化数组 `nums` 时，程序占用 $O(n)$ 空间；因此最差空间复杂度为 $O(n)$ 。\n",
    "\n",
    "**在递归函数中，需要注意统计栈帧空间**。例如在以下代码中："
   ],
   "metadata": {
    "collapsed": false
   }
  },
  {
   "cell_type": "code",
   "execution_count": 9,
   "outputs": [],
   "source": [
    "def function() -> int:\n",
    "    # 执行某些操作\n",
    "    return 0\n",
    "\n",
    "def loop(n: int):\n",
    "    \"\"\"循环 O(1) \"\"\"\n",
    "    for _ in range(n):\n",
    "        function()\n",
    "\n",
    "def recur(n: int) -> int:\n",
    "    \"\"\"递归 O(n)\"\"\"\n",
    "    if n == 1: return\n",
    "    return recur(n - 1)"
   ],
   "metadata": {
    "collapsed": false,
    "ExecuteTime": {
     "end_time": "2023-09-17T14:19:54.752480100Z",
     "start_time": "2023-09-17T14:19:53.875260600Z"
    }
   }
  },
  {
   "cell_type": "markdown",
   "source": [
    "- 函数 `loop()` 在循环中调用了 $n$ 次 `function()` ，每轮中的 `function()` 都返回并释放了栈帧空间，因此空间复杂度仍为 $O(1)$ 。\n",
    "\n",
    "- 递归函数 `recur()` 在运行过程中会同时存在 $n$ 个未返回的 `recur()` ，从而占用 $O(n)$ 的栈帧空间。\n",
    "\n",
    "理想情况下，我们希望算法的时间复杂度和空间复杂度都能达到最优。然而在实际情况中，同时优化时间复杂度和空间复杂度通常是非常困难的。\n",
    "\n",
    "**降低时间复杂度通常需要以提升空间复杂度为代价，反之亦然**。我们将牺牲内存空间来提升算法运行速度的思路称为“以空间换时间”；反之，则称为“以时间换空间”。\n",
    "\n",
    "选择哪种思路取决于我们更看重哪个方面。在大多数情况下，时间比空间更宝贵，因此“以空间换时间”通常是更常用的策略。当然，在数据量很大的情况下，控制空间复杂度也是非常重要的。"
   ],
   "metadata": {
    "collapsed": false
   }
  },
  {
   "cell_type": "markdown",
   "source": [
    "# 数据结构\n",
    "\n",
    "## 数据结构分类\n",
    "\n",
    "### 逻辑结构：线性与非线性\n",
    "\n",
    "**逻辑结构揭示了数据元素之间的逻辑关系**。在数组和链表中，数据按照顺序依次排列，体现了数据之间的线性关系；而在树中，数据从顶部向下按层次排列，表现出祖先与后代之间的派生关系；图则由节点和边构成，反映了复杂的网络关系。\n",
    "\n",
    "![线性与非线性数据结构](assets/classification_logic_structure.png){#fig-logic_structure}\n",
    "\n",
    "- **线性数据结构**：数组、链表、栈、队列、哈希表。\n",
    "\n",
    "- **树形结构**：树、堆、哈希表，元素之间是一对多的关系。\n",
    "\n",
    "- **网状结构**：图，元素之间是多对多的关系。\n",
    "\n",
    "### 物理结构：连续与离散\n",
    "\n",
    "在算法运行过程中，相关数据都存储在内存中，系统通过内存地址来访问目标位置的数据。\n",
    "\n",
    "内存是所有程序的共享资源，当某块内存被某个程序占用时，则无法被其他程序同时使用了。**因此在数据结构与算法的设计中，内存资源是一个重要的考虑因素**。比如，算法所占用的内存峰值不应超过系统剩余空闲内存；如果缺少连续大块的内存空间，那么所选用的数据结构必须能够存储在离散的内存空间内。\n",
    "\n",
    "**物理结构反映了数据在计算机内存中的存储方式**，可分为连续空间存储（数组）和离散空间存储（链表）。物理结构从底层决定了数据的访问、更新、增删等操作方法，同时在时间效率和空间效率方面呈现出互补的特点。\n",
    "\n",
    "![连续空间存储与离散空间存储](assets/classification_phisical_structure.png){#fig-phisical_structure}\n",
    "\n",
    "**所有数据结构都是基于数组、链表或二者的组合实现的**。例如，栈和队列既可以使用数组实现，也可以使用链表实现；而哈希表的实现可能同时包含数组和链表。\n",
    "\n",
    "- **基于数组可实现**：栈、队列、哈希表、树、堆、图、矩阵、张量（维度 $\\geq 3$ 的数组）等。\n",
    "\n",
    "- **基于链表可实现**：栈、队列、哈希表、树、堆、图等。\n",
    "\n",
    "基于数组实现的数据结构也被称为“静态数据结构”，这意味着此类数据结构在初始化后长度不可变。相对应地，基于链表实现的数据结构被称为“动态数据结构”，这类数据结构在初始化后，仍可以在程序运行过程中对其长度进行调整。"
   ],
   "metadata": {
    "collapsed": false
   }
  },
  {
   "cell_type": "markdown",
   "source": [
    "# 数组与链表\n",
    "\n",
    "## 数组\n",
    "\n",
    "### 数组常用操作\n",
    "\n",
    "我们可以根据需求选用数组的两种初始化方式：无初始值、给定初始值。在未指定初始值的情况下，大多数编程语言会将数组元素初始化为 $0$ 。"
   ],
   "metadata": {
    "collapsed": false
   }
  },
  {
   "cell_type": "code",
   "execution_count": 10,
   "outputs": [],
   "source": [
    "# 初始化数组\n",
    "arr: list[int] = [0] * 5\n",
    "nums: list[int] = [1, 3, 2, 5, 4]"
   ],
   "metadata": {
    "collapsed": false,
    "ExecuteTime": {
     "end_time": "2023-09-17T14:19:54.752480100Z",
     "start_time": "2023-09-17T14:19:53.883168700Z"
    }
   }
  },
  {
   "cell_type": "code",
   "execution_count": 11,
   "outputs": [],
   "source": [
    "import random\n",
    "\n",
    "def random_access(nums: list[int]) -> int:\n",
    "    \"\"\"随机访问元素\"\"\"\n",
    "    random_index = random.randint(0, len(nums) - 1)\n",
    "    random_num = nums[random_index]\n",
    "    return random_num\n",
    "\n",
    "def insert(nums: list[int], num: int, index: int):\n",
    "    \"\"\"在数组的索引 index 处插入元素 num\"\"\"\n",
    "    for i in range(len(nums) - 1, index, -1):\n",
    "        nums[i] = nums[i - 1]\n",
    "    # 将 num 赋给 index 处元素\n",
    "    nums[index] = num"
   ],
   "metadata": {
    "collapsed": false,
    "ExecuteTime": {
     "end_time": "2023-09-17T14:19:54.752480100Z",
     "start_time": "2023-09-17T14:19:53.891940100Z"
    }
   }
  },
  {
   "cell_type": "markdown",
   "source": [
    "数组元素在内存中是“紧挨着的”，它们之间没有空间再存放任何数据。如果想要在数组中间插入一个元素，则需要将该元素之后的所有元素都向后移动一位，之后再把元素赋值给该索引。值得注意的是，由于数组的长度是固定的，因此插入一个元素必定会导致数组尾部元素的“丢失”。\n",
    "\n",
    "同理，若想要删除索引 $i$ 处的元素，则需要把索引 $i$ 之后的元素都向前移动一位。"
   ],
   "metadata": {
    "collapsed": false
   }
  },
  {
   "cell_type": "code",
   "execution_count": 12,
   "outputs": [],
   "source": [
    "def remove(nums: list[int], index: int):\n",
    "    \"\"\"在数组的索引 index 处插入元素 num\"\"\"\n",
    "    # 把索引 index 之后的所有元素向前移动一位\n",
    "    for i in range(index, len(nums) - 1):\n",
    "        nums[i] = nums[i + 1]"
   ],
   "metadata": {
    "collapsed": false,
    "ExecuteTime": {
     "end_time": "2023-09-17T14:19:54.753533400Z",
     "start_time": "2023-09-17T14:19:53.898218800Z"
    }
   }
  },
  {
   "cell_type": "markdown",
   "source": [
    "删除元素完成后，原先末尾的元素变得“无意义”了，所以我们无须特意去修改它。\n",
    "\n",
    "总的来看，数组的插入与删除操作有以下缺点。\n",
    "\n",
    "- **时间复杂度高**：数组的插入和删除的平均时间复杂度均为 $O(n)$ ，其中 $n$ 为数组长度。\n",
    "\n",
    "- **丢失元素**：由于数组的长度不可变，因此在插入元素后，超出数组长度范围的元素会丢失。\n",
    "\n",
    "- **内存浪费**：我们可以初始化一个比较长的数组，只用前面一部分，这样在插入数据时，丢失的末尾元素都是“无意义”的，但这样做也会造成部分内存空间的浪费。"
   ],
   "metadata": {
    "collapsed": false
   }
  },
  {
   "cell_type": "code",
   "execution_count": 13,
   "outputs": [],
   "source": [
    "def traverse(num: list[int]):\n",
    "    \"\"\"遍历数组\"\"\"\n",
    "    count = 0\n",
    "    # 通过索引遍历数组\n",
    "    for i in range(len(nums)):\n",
    "        count += 1\n",
    "    # 直接遍历数组\n",
    "    for num in nums:\n",
    "        count += 1\n",
    "    # 同时遍历数据索引和元素\n",
    "    for i, num in enumerate(nums):\n",
    "        count += 1"
   ],
   "metadata": {
    "collapsed": false,
    "ExecuteTime": {
     "end_time": "2023-09-17T14:19:54.753533400Z",
     "start_time": "2023-09-17T14:19:53.908702900Z"
    }
   }
  },
  {
   "cell_type": "markdown",
   "source": [
    "在数组中查找指定元素需要遍历数组，每轮判断元素值是否匹配，若匹配则输出对应索引。因为数组是线性数据结构，所以上述查找操作被称为“线性查找”。"
   ],
   "metadata": {
    "collapsed": false
   }
  },
  {
   "cell_type": "code",
   "execution_count": 14,
   "outputs": [],
   "source": [
    "def find(nums: list[int], target: int) -> int:\n",
    "    \"\"\"在数组中查找指定元素\"\"\"\n",
    "    for i in range(len(nums)):\n",
    "        if nums[i] == target:\n",
    "            return i\n",
    "    return -1"
   ],
   "metadata": {
    "collapsed": false,
    "ExecuteTime": {
     "end_time": "2023-09-17T14:19:54.754512700Z",
     "start_time": "2023-09-17T14:19:53.918062600Z"
    }
   }
  },
  {
   "cell_type": "markdown",
   "source": [
    "在复杂的系统环境中，程序难以保证数组之后的内存空间是可用的，从而无法安全地扩展数组容量。因此在大多数编程语言中，**数组的长度是不可变的**。\n",
    "\n",
    "如果我们希望扩容数组，则需重新建立一个更大的数组，然后把原数组元素依次拷贝到新数组。这是一个 $O(n)$ 的操作，在数组很大的情况下是非常耗时的。"
   ],
   "metadata": {
    "collapsed": false
   }
  },
  {
   "cell_type": "code",
   "execution_count": 15,
   "outputs": [],
   "source": [
    "# 请注意，Python 的 list 是动态数组，可以直接扩展\n",
    "# 为了方便学习，本函数将 list 看作是长度不可变的数组\n",
    "def extend(nums: list[int], enlarge: int) -> list[int]:\n",
    "    \"\"\"扩展数组长度\"\"\"\n",
    "    # 初始化一个长度后的数组\n",
    "    res = 0 * (len(nums) + enlarge)\n",
    "    # 将原数组中的所有元素复制到新数组\n",
    "    for i in range(len(nums)):\n",
    "        res[i] = nums[i]\n",
    "    # 返回扩展后的新数组\n",
    "    return res"
   ],
   "metadata": {
    "collapsed": false,
    "ExecuteTime": {
     "end_time": "2023-09-17T14:19:54.754512700Z",
     "start_time": "2023-09-17T14:19:53.926531900Z"
    }
   }
  },
  {
   "cell_type": "markdown",
   "source": [
    "### 数组优点与局限性\n",
    "\n",
    "数组存储在连续的内存空间内，且元素类型相同。这种做法包含丰富的先验信息，系统可以利用这些信息来优化数据结构的操作效率。\n",
    "\n",
    "- **空间效率高**: 数组为数据分配了连续的内存块，无须额外的结构开销。\n",
    "\n",
    "- **支持随机访问**: 数组允许在 $O(1)$ 时间内访问任何元素。\n",
    "\n",
    "- **缓存局部性**: 当访问数组元素时，计算机不仅会加载它，还会缓存其周围的其他数据，从而借助高速缓存来提升后续操作的执行速度。\n",
    "\n",
    "连续空间存储是一把双刃剑，其存在以下缺点。\n",
    "\n",
    "- **插入与删除效率低**:当数组中元素较多时，插入与删除操作需要移动大量的元素。\n",
    "\n",
    "- **长度不可变**: 数组在初始化后长度就固定了，扩容数组需要将所有数据复制到新数组，开销很大。\n",
    "\n",
    "- **空间浪费**: 如果数组分配的大小超过了实际所需，那么多余的空间就被浪费了。\n",
    "\n",
    "### 数组典型应用\n",
    "\n",
    "数组是一种基础且常见的数据结构，既频繁应用在各类算法之中，也可用于实现各种复杂数据结构。\n",
    "\n",
    "- **随机访问**：如果我们想要随机抽取一些样本，那么可以用数组存储，并生成一个随机序列，根据索引实现样本的随机抽取。\n",
    "\n",
    "- **排序和搜索**：数组是排序和搜索算法最常用的数据结构。快速排序、归并排序、二分查找等都主要在数组上进行。\n",
    "\n",
    "- **查找表**：当我们需要快速查找一个元素或者需要查找一个元素的对应关系时，可以使用数组作为查找表。假如我们想要实现字符到 ASCII 码的映射，则可以将字符的 ASCII 码值作为索引，对应的元素存放在数组中的对应位置。\n",
    "\n",
    "- **机器学习**：神经网络中大量使用了向量、矩阵、张量之间的线性代数运算，这些数据都是以数组的形式构建的。数组是神经网络编程中最常使用的数据结构。\n",
    "\n",
    "- **数据结构实现**：数组可以用于实现栈、队列、哈希表、堆、图等数据结构。例如，图的邻接矩阵表示实际上是一个二维数组。"
   ],
   "metadata": {
    "collapsed": false
   }
  },
  {
   "cell_type": "markdown",
   "source": [
    "## 链表"
   ],
   "metadata": {
    "collapsed": false
   }
  },
  {
   "cell_type": "code",
   "execution_count": 16,
   "outputs": [],
   "source": [
    "class ListNode:\n",
    "    \"\"\"链表节点类\"\"\"\n",
    "    def __init__(self, val: int):\n",
    "        self.val: int = val                    # 节点值\n",
    "        self.next: Optional[ListNode] = None   # 指向下一节点的引用"
   ],
   "metadata": {
    "collapsed": false,
    "ExecuteTime": {
     "end_time": "2023-09-17T14:19:54.754512700Z",
     "start_time": "2023-09-17T14:19:53.933376700Z"
    }
   }
  },
  {
   "cell_type": "markdown",
   "source": [
    "### 链表常用操作"
   ],
   "metadata": {
    "collapsed": false
   }
  },
  {
   "cell_type": "code",
   "execution_count": 17,
   "outputs": [],
   "source": [
    "## 初始化链表 1 -> 3 -> 2 -> 5 -> 4\n",
    "# 初始化各个节点\n",
    "n0 = ListNode(1)\n",
    "n1 = ListNode(3)\n",
    "n2 = ListNode(2)\n",
    "n3 = ListNode(5)\n",
    "n4 = ListNode(4)\n",
    "# 构建引用指向\n",
    "n0.next = n1\n",
    "n1.next = n2\n",
    "n2.next = n3\n",
    "n3.next = n4"
   ],
   "metadata": {
    "collapsed": false,
    "ExecuteTime": {
     "end_time": "2023-09-17T14:19:54.755511Z",
     "start_time": "2023-09-17T14:19:53.943508500Z"
    }
   }
  },
  {
   "cell_type": "markdown",
   "source": [
    "数组整体是一个变量，比如数组 `nums` 包含元素 `nums[0]` 和 `nums[1]` 等，而链表是由多个独立的节点对象组成的。**我们通常将头节点当作链表的代称**，比如以上代码中的链表可被记做链表 `n0` 。"
   ],
   "metadata": {
    "collapsed": false
   }
  },
  {
   "cell_type": "code",
   "execution_count": 18,
   "outputs": [],
   "source": [
    "def insert(n0: ListNode, P: ListNode):\n",
    "    \"\"\"在链表的节点 n0 之后插入节点 P\"\"\"\n",
    "    n1 = n0.next\n",
    "    P.next = n1\n",
    "    n0.next = P\n",
    "\n",
    "def remove(n0: ListNode):\n",
    "    \"\"\"删除链表的节点 n0 之后的首个节点\"\"\"\n",
    "    if not n0.next:\n",
    "        return\n",
    "    # n0 -> P -n1\n",
    "    P = n0.next\n",
    "    n1 = P.next\n",
    "    n0.next = n1"
   ],
   "metadata": {
    "collapsed": false,
    "ExecuteTime": {
     "end_time": "2023-09-17T14:19:54.755511Z",
     "start_time": "2023-09-17T14:19:53.952074200Z"
    }
   }
  },
  {
   "cell_type": "markdown",
   "source": [
    "尽管在删除操作完成后节点 `P` 仍然指向 `n1` ，但实际上遍历此链表已经无法访问到 `P` ，这意味着 `P` 已经不再属于该链表了。"
   ],
   "metadata": {
    "collapsed": false
   }
  },
  {
   "cell_type": "code",
   "execution_count": 19,
   "outputs": [],
   "source": [
    "def access(head: ListNode, index: int) -> ListNode | None:\n",
    "    \"\"\"访问链表中索引为 index 的节点\"\"\"\n",
    "    for _ in range(index):\n",
    "        if not head:\n",
    "            return None\n",
    "        head = head.next\n",
    "    return head\n",
    "\n",
    "def find(head: ListNode, target: int) -> int:\n",
    "    \"\"\"在链表中查找值为 target 的首个节点\"\"\"\n",
    "    index = 0\n",
    "    while head:\n",
    "        if head.val == target:\n",
    "            return index\n",
    "        head = head.next\n",
    "        index += 1\n",
    "    return -1"
   ],
   "metadata": {
    "collapsed": false,
    "ExecuteTime": {
     "end_time": "2023-09-17T14:19:54.757509800Z",
     "start_time": "2023-09-17T14:19:53.958538Z"
    }
   }
  },
  {
   "cell_type": "markdown",
   "source": [
    "**在链表访问节点的效率较低**。如上节所述，我们可以在 $O(1)$ 时间下访问数组中的任意元素。链表则不然，程序需要从头节点出发，逐个向后遍历，直至找到目标节点。也就是说，访问链表的第 $i$ 个节点需要循环 $i - 1$ 轮，时间复杂度为 $O(n)$ 。"
   ],
   "metadata": {
    "collapsed": false
   }
  },
  {
   "cell_type": "markdown",
   "source": [
    "### 数组 VS 链表\n",
    "\n",
    "|            | 数组                     | 链表         |\n",
    "| ---------- | ------------------------ | ------------ |\n",
    "| 存储方式   | 连续内存空间             | 离散内存空间 |\n",
    "| 缓存局部性 | 友好                     | 不友好       |\n",
    "| 容量扩展   | 长度不可变               | 可灵活扩展   |\n",
    "| 内存效率   | 占用内存少、浪费部分空间 | 占用内存多   |\n",
    "| 访问元素   | $O(1)$                   | $O(n)$       |\n",
    "| 添加元素   | $O(n)$                   | $O(1)$       |\n",
    "| 删除元素   | $O(n)$                   | $O(1)$       |\n",
    "\n",
    ": 数组与链表的效率对比 {#tbl-array_vs_linked_ls}\n",
    "\n",
    "### 常见链表类型\n",
    "\n",
    "常见的链表类型包括三种：\n",
    "\n",
    "- **单向链表**：即上述介绍的普通链表。单向链表的节点包含值和指向下一节点的引用两项数据。我们将首个节点称为头节点，将最后一个节点称为尾节点，尾节点指向空 $\\text{None}$ 。\n",
    "\n",
    "- **环形链表**：如果我们令单向链表的尾节点指向头节点（即首尾相接），则得到一个环形链表。在环形链表中，任意节点都可以视作头节点。\n",
    "\n",
    "- **双向链表**：与单向链表相比，双向链表记录了两个方向的引用。双向链表的节点定义同时包含指向后继节点（下一个节点）和前驱节点（上一个节点）的引用（指针）。相较于单向链表，双向链表更具灵活性，可以朝两个方向遍历链表，但相应地也需要占用更多的内存空间。"
   ],
   "metadata": {
    "collapsed": false
   }
  },
  {
   "cell_type": "code",
   "execution_count": 20,
   "outputs": [],
   "source": [
    "class ListNode:\n",
    "    \"\"\"双向链表节点类\"\"\"\n",
    "    def __init__(self, val: int):\n",
    "        self.val: int = val                   # 节点值\n",
    "        self.next: Optional[ListNode] = None  # 指向后继节点的引用\n",
    "        self.prev: Optional[ListNode] = None  # 指向前驱节点的引用"
   ],
   "metadata": {
    "collapsed": false,
    "ExecuteTime": {
     "end_time": "2023-09-17T14:19:54.757509800Z",
     "start_time": "2023-09-17T14:19:53.966057100Z"
    }
   }
  },
  {
   "cell_type": "markdown",
   "source": [
    "### 链表典型应用\n",
    "\n",
    "单向链表通常用于实现栈、队列、哈希表和图等数据结构。\n",
    "\n",
    "- **栈与队列**：当插入和删除操作都在链表的一端进行时，它表现出先进后出的的特性，对应栈；当插入操作在链表的一端进行，删除操作在链表的另一端进行，它表现出先进先出的特性，对应队列。\n",
    "\n",
    "- **哈希表**：链地址法是解决哈希冲突的主流方案之一，在该方案中，所有冲突的元素都会被放到一个链表中。\n",
    "\n",
    "- **图**：邻接表是表示图的一种常用方式，在其中，图的每个顶点都与一个链表相关联，链表中的每个元素都代表与该顶点相连的其他顶点。\n",
    "\n",
    "双向链表常被用于需要快速查找前一个和下一个元素的场景。\n",
    "\n",
    "- **高级数据结构**：比如在红黑树、B 树中，我们需要访问节点的父节点，这可以通过在节点中保存一个指向父节点的引用来实现，类似于双向链表。\n",
    "\n",
    "- **浏览器历史**：在网页浏览器中，当用户点击前进或后退按钮时，浏览器需要知道用户访问过的前一个和后一个网页。双向链表的特性使得这种操作变得简单。\n",
    "\n",
    "- **LRU 算法**：在缓存淘汰算法（LRU）中，我们需要快速找到最近最少使用的数据，以及支持快速地添加和删除节点。这时候使用双向链表就非常合适。\n",
    "\n",
    "循环链表常被用于需要周期性操作的场景，比如操作系统的资源调度。\n",
    "\n",
    "- **时间片轮转调度算法**：在操作系统中，时间片轮转调度算法是一种常见的 CPU 调度算法，它需要对一组进程进行循环。每个进程被赋予一个时间片，当时间片用完时，CPU 将切换到下一个进程。这种循环的操作就可以通过循环链表来实现。\n",
    "\n",
    "- **数据缓冲区**：在某些数据缓冲区的实现中，也可能会使用到循环链表。比如在音频、视频播放器中，数据流可能会被分成多个缓冲块并放入一个循环链表，以便实现无缝播放。"
   ],
   "metadata": {
    "collapsed": false
   }
  },
  {
   "cell_type": "markdown",
   "source": [
    "## 列表\n",
    "\n",
    "**数组长度不可变导致实用性降低**。在实际中，我们可能事先无法确定需要存储多少数据，这使数组长度的选择变得困难。若长度过小，需要在持续添加数据时频繁扩容数组；若长度过大，则会造成内存空间的浪费。\n",
    "\n",
    "为解决此问题，出现了一种被称为「动态数组 dynamic array」的数据结构，即长度可变的数组，也常被称为「列表 list」。列表基于数组实现，继承了数组的优点，并且可以在程序运行过程中动态扩容。我们可以在列表中自由地添加元素，而无须担心超过容量限制。\n",
    "\n",
    "### 列表常用操作"
   ],
   "metadata": {
    "collapsed": false
   }
  },
  {
   "cell_type": "code",
   "execution_count": 21,
   "outputs": [],
   "source": [
    "## 初始化列表\n",
    "# 无初始值的空列表\n",
    "list1: list = []\n",
    "# 有初始值的列表\n",
    "list: list = [1, 3, 2, 5, 4]"
   ],
   "metadata": {
    "collapsed": false,
    "ExecuteTime": {
     "end_time": "2023-09-17T14:19:54.757509800Z",
     "start_time": "2023-09-17T14:19:53.973490Z"
    }
   }
  },
  {
   "cell_type": "markdown",
   "source": [
    "列表本质上是数组，因此可以在 $O(1)$ 时间内访问和更新元素，效率很高。"
   ],
   "metadata": {
    "collapsed": false
   }
  },
  {
   "cell_type": "code",
   "execution_count": 22,
   "outputs": [],
   "source": [
    "# 访问元素\n",
    "num: int = list[1]\n",
    "\n",
    "# 更新元素\n",
    "list[1] = 0"
   ],
   "metadata": {
    "collapsed": false,
    "ExecuteTime": {
     "end_time": "2023-09-17T14:19:54.758513700Z",
     "start_time": "2023-09-17T14:19:53.979390500Z"
    }
   }
  },
  {
   "cell_type": "markdown",
   "source": [
    "相较于数组，列表可以自由地添加与删除元素。在列表尾部添加元素的时间复杂度为 $O(1)$ ，但插入和删除元素的效率仍与数组相同，时间复杂度为 $O(n)$ 。"
   ],
   "metadata": {
    "collapsed": false
   }
  },
  {
   "cell_type": "code",
   "execution_count": 23,
   "outputs": [],
   "source": [
    "# 清空列表\n",
    "list.clear()\n",
    "\n",
    "# 尾部添加元素\n",
    "list.append(1)\n",
    "list.append(3)\n",
    "list.append(2)\n",
    "list.append(5)\n",
    "list.append(4)\n",
    "\n",
    "# 中间插入元素\n",
    "list.insert(3, 6)  # 在索引 3 处插入数字 6\n",
    "\n",
    "# 删除元素\n",
    "list.pop(3)        # 删除索引 3 处的元素\n",
    "\n",
    "## 遍历列表\n",
    "# 通过索引遍历列表\n",
    "count = 0\n",
    "for i in range(len(list)):\n",
    "    count += 1\n",
    "\n",
    "# 直接遍历列表元素\n",
    "count = 0\n",
    "for n in list:\n",
    "    count += 1\n",
    "\n",
    "# 拼接列表\n",
    "list1 = [6, 8, 7, 10, 9]\n",
    "list += list1  # 将列表 list1 拼接到 list 后\n",
    "\n",
    "# 排序列表\n",
    "list.sort()"
   ],
   "metadata": {
    "collapsed": false,
    "ExecuteTime": {
     "end_time": "2023-09-17T14:19:54.758513700Z",
     "start_time": "2023-09-17T14:19:53.985867700Z"
    }
   }
  },
  {
   "cell_type": "markdown",
   "source": [
    "### 列表实现\n",
    "\n",
    "许多编程语言都提供内置的列表，例如 Java、C++、Python 等。它们的实现比较复杂，各个参数的设定也非常有考究，例如初始容量、扩容倍数等。感兴趣的读者可以查阅源码进行学习。\n",
    "\n",
    "为了加深对列表工作原理的理解，我们尝试实现一个简易版列表，包括以下三个重点设计。\n",
    "\n",
    "- **初始容量**：选取一个合理的数组初始容量。在本示例中，我们选择 10 作为初始容量。\n",
    "\n",
    "- **数量记录**：声明一个变量 size，用于记录列表当前元素数量，并随着元素插入和删除实时更新。根据此变量，我们可以定位列表尾部，以及判断是否需要扩容。\n",
    "\n",
    "- **扩容机制**：若插入元素时列表容量已满，则需要进行扩容。首先根据扩容倍数创建一个更大的数组，再将当前数组的所有元素依次移动至新数组。在本示例中，我们规定每次将数组扩容至之前的 2 倍。"
   ],
   "metadata": {
    "collapsed": false
   }
  },
  {
   "cell_type": "code",
   "execution_count": 24,
   "outputs": [],
   "source": [
    "#| code-fold: true\n",
    "\n",
    "class MyList:\n",
    "    \"\"\"列表类简易实现\"\"\"\n",
    "\n",
    "    def __init__(self):\n",
    "        \"\"\"构造方法\"\"\"\n",
    "        self.__capacity: int = 10  # 列表容量\n",
    "        self.__nums: list[int] = [0] * self.__capacity  # 数组（存储列表元素）\n",
    "        self.__size: int = 0  # 列表长度（即当前元素数量）\n",
    "        self.__extend_ratio: int = 2  # 每次列表扩容的倍数\n",
    "\n",
    "    def size(self) -> int:\n",
    "        \"\"\"获取列表长度（即当前元素数量）\"\"\"\n",
    "        return self.__size\n",
    "\n",
    "    def capacity(self) -> int:\n",
    "        \"\"\"获取列表容量\"\"\"\n",
    "        return self.__capacity\n",
    "\n",
    "    def get(self, index: int) -> int:\n",
    "        \"\"\"访问元素\"\"\"\n",
    "        # 索引如果越界则抛出异常，下同\n",
    "        if index < 0 or index >= self.__size:\n",
    "            raise IndexError(\"索引越界\")\n",
    "        return self.__nums[index]\n",
    "\n",
    "    def set(self, num: int, index: int):\n",
    "        \"\"\"更新元素\"\"\"\n",
    "        if index < 0 or index >= self.__size:\n",
    "            raise IndexError(\"索引越界\")\n",
    "        self.__nums[index] = num\n",
    "\n",
    "    def extend_capacity(self):\n",
    "        \"\"\"列表扩容\"\"\"\n",
    "        # 新建一个长度为原数组 _extend_ratio 倍的新数组，并将原数组拷贝到新数组\n",
    "        self.__nums = self.__nums + [0] * self.capacity() * (self.__extend_ratio - 1)\n",
    "        # 更新列表容量\n",
    "        self.__capacity = len(self.__nums)\n",
    "\n",
    "    def add(self, num: int):\n",
    "        \"\"\"尾部添加元素\"\"\"\n",
    "        # 元素数量超出容量时，触发扩容机制\n",
    "        if self.size() == self.capacity():\n",
    "            self.extend_capacity()\n",
    "        self.__nums[self.__size] = num\n",
    "        self.__size += 1\n",
    "\n",
    "    def insert(self, num: int, index: int):\n",
    "        \"\"\"中间插入元素\"\"\"\n",
    "        if index < 0 or index >= self.__size:\n",
    "            raise IndexError(\"索引越界\")\n",
    "        # 元素数量超出容量时，触发扩容机制\n",
    "        if self.size() == self.capacity():\n",
    "            self.extend_capacity()\n",
    "        # 将索引 index 以及之后的元素都向后移动一位\n",
    "        for j in range(self.__size - 1, index - 1, -1):\n",
    "            self.__nums[j + 1] = self.__nums[j]\n",
    "        self.__nums[index] = num\n",
    "        # 更新元素数量\n",
    "        self.__size += 1\n",
    "\n",
    "    def remove(self, index: int) -> int:\n",
    "        \"\"\"删除元素\"\"\"\n",
    "        if index < 0 or index >= self.__size:\n",
    "            raise IndexError(\"索引越界\")\n",
    "        num = self.__nums[index]\n",
    "        # 索引 index 之后的元素都向前移动一位\n",
    "        for j in range(index, self.__size - 1):\n",
    "            self.__nums[j] = self.__nums[j + 1]\n",
    "        # 更新元素数量\n",
    "        self.__size -= 1\n",
    "        # 返回被删除的元素\n",
    "        return num\n",
    "\n",
    "    def to_array(self):\n",
    "        \"\"\"返回有效长度的列表\"\"\"\n",
    "        return self.__nums[: self.__size]"
   ],
   "metadata": {
    "collapsed": false,
    "ExecuteTime": {
     "end_time": "2023-09-17T14:19:54.758513700Z",
     "start_time": "2023-09-17T14:19:54.002053Z"
    }
   }
  },
  {
   "cell_type": "code",
   "execution_count": 25,
   "outputs": [
    {
     "name": "stdout",
     "output_type": "stream",
     "text": [
      "列表 my_list = [1, 3, 2, 5, 4]，容量 = 10，长度 = 5\n",
      "在索引 3 处插入数字 6，得到 my_list = [1, 3, 2, 6, 5, 4]\n",
      "删除索引 3 处的元素，得到 my_list = [1, 3, 2, 5, 4]\n",
      "访问索引 1 处的元素，得到 num= 3\n",
      "将索引 1 处的元素更新为 0，得到 my_list= [1, 0, 2, 5, 4]\n",
      "扩容后的列表 [1, 0, 2, 5, 4, 0, 1, 2, 3, 4, 5, 6, 7, 8, 9]，容量 = 20，长度 = 15\n"
     ]
    }
   ],
   "source": [
    "# 初始化列表\n",
    "my_list = MyList()\n",
    "\n",
    "# 尾部添加元素\n",
    "my_list.add(1)\n",
    "my_list.add(3)\n",
    "my_list.add(2)\n",
    "my_list.add(5)\n",
    "my_list.add(4)\n",
    "\n",
    "print(\n",
    "    f\"列表 my_list = {my_list.to_array()}，容量 = {my_list.capacity()}，长度 = {my_list.size()}\"\n",
    ")\n",
    "\n",
    "# 中间插入元素\n",
    "my_list.insert(6, index=3)\n",
    "print(\"在索引 3 处插入数字 6，得到 my_list =\", my_list.to_array())\n",
    "\n",
    "# 删除元素\n",
    "my_list.remove(3)\n",
    "print(\"删除索引 3 处的元素，得到 my_list =\", my_list.to_array())\n",
    "\n",
    "# 访问元素\n",
    "num = my_list.get(1)\n",
    "print(\"访问索引 1 处的元素，得到 num=\", num)\n",
    "\n",
    "# 更新元素\n",
    "my_list.set(0, 1)\n",
    "print(\"将索引 1 处的元素更新为 0，得到 my_list=\", my_list.to_array())\n",
    "\n",
    "# 测试扩容机制\n",
    "for i in range(10):\n",
    "    # 在 i = 5 时，列表长度将超出列表容量，触发扩容机制\n",
    "    my_list.add(i)\n",
    "print(\n",
    "    f\"扩容后的列表 {my_list.to_array()}，容量 = {my_list.capacity()}，长度 = {my_list.size()}\"\n",
    ")"
   ],
   "metadata": {
    "collapsed": false,
    "ExecuteTime": {
     "end_time": "2023-09-17T14:19:54.773475Z",
     "start_time": "2023-09-17T14:19:54.014504300Z"
    }
   }
  },
  {
   "cell_type": "markdown",
   "source": [
    "::: {.callout-note}\n",
    "与许多语言不同的是，在 Python 中数字也被包装为对象，列表中存储的不是数字本身，而是对数字的引用。因此，我们会发现两个数组中的相同数字拥有同一个 id ，并且这些数字的内存地址是无须连续的。\n",
    ":::"
   ],
   "metadata": {
    "collapsed": false
   }
  },
  {
   "cell_type": "markdown",
   "source": [
    "# 栈与队列\n",
    "\n",
    "## 栈\n",
    "\n",
    "「栈 stack」是一种遵循先入后出的逻辑的线性数据结构。\n",
    "\n",
    "我们可以将栈类比为桌面上的一摞盘子，如果需要拿出底部的盘子，则需要先将上面的盘子依次取出。我们将盘子替换为各种类型的元素（如整数、字符、对象等），就得到了栈数据结构。\n",
    "\n",
    "我们把堆叠元素的顶部称为“栈顶”，底部称为“栈底”。将把元素添加到栈顶的操作叫做“入栈”，删除栈顶元素的操作叫做“出栈”。\n",
    "\n",
    "### 栈常用操作"
   ],
   "metadata": {
    "collapsed": false
   }
  },
  {
   "cell_type": "code",
   "execution_count": 26,
   "outputs": [],
   "source": [
    "# 初始化栈\n",
    "# Python 没有内置的栈类，可以把 List 当作栈来使用\n",
    "stack: list = []\n",
    "\n",
    "# 元素入栈\n",
    "stack.append(1)\n",
    "stack.append(3)\n",
    "stack.append(2)\n",
    "stack.append(5)\n",
    "stack.append(4)\n",
    "\n",
    "# 访问栈顶元素\n",
    "peek: int = stack[-1]\n",
    "\n",
    "# 元素出栈\n",
    "pop: int = stack.pop()\n",
    "\n",
    "# 获取栈的长度\n",
    "size: int = len(stack)\n",
    "\n",
    "# 判断是否为空\n",
    "is_empty: bool = len(stack) == 0"
   ],
   "metadata": {
    "collapsed": false,
    "ExecuteTime": {
     "end_time": "2023-09-17T14:19:54.773475Z",
     "start_time": "2023-09-17T14:19:54.025928Z"
    }
   }
  },
  {
   "cell_type": "markdown",
   "source": [
    "### 栈的实现\n",
    "\n",
    "为了深入了解栈的运行机制，我们来尝试自己实现一个栈类。\n",
    "\n",
    "栈遵循先入后出的原则，因此我们只能在栈顶添加或删除元素。然而，数组和链表都可以在任意位置添加和删除元素，**因此栈可以被视为一种受限制的数组或链表**。换句话说，我们可以“屏蔽”数组或链表的部分无关操作，使其对外表现的逻辑符合栈的特性。\n",
    "\n",
    "#### 基于链表的实现\n",
    "\n",
    "使用链表来实现栈时，我们可以将链表的头节点视为栈顶，尾节点视为栈底。对于入栈操作，我们只需将元素插入链表头部，这种节点插入方法被称为“头插法”。而对于出栈操作，只需将头节点从链表中删除即可。"
   ],
   "metadata": {
    "collapsed": false
   }
  },
  {
   "cell_type": "code",
   "execution_count": 27,
   "outputs": [],
   "source": [
    "#| code-fold: true\n",
    "\n",
    "class LinkedListStack:\n",
    "    \"\"\"基于链表实现的栈\"\"\"\n",
    "\n",
    "    def __init__(self):\n",
    "        \"\"\"构造方法\"\"\"\n",
    "        self.__peek: ListNode | None = None\n",
    "        self.__size: int = 0\n",
    "\n",
    "    def size(self) -> int:\n",
    "        \"\"\"获取栈的长度\"\"\"\n",
    "        return self.__size\n",
    "\n",
    "    def is_empty(self) -> bool:\n",
    "        \"\"\"判断栈是否为空\"\"\"\n",
    "        return not self.__peek\n",
    "\n",
    "    def push(self, val: int):\n",
    "        \"\"\"入栈\"\"\"\n",
    "        node = ListNode(val)\n",
    "        node.next = self.__peek\n",
    "        self.__peek = node\n",
    "        self.__size += 1\n",
    "\n",
    "    def pop(self) -> int:\n",
    "        \"\"\"出栈\"\"\"\n",
    "        num: int = self.peek()\n",
    "        self.__peek = self.__peek.next\n",
    "        self.__size -= 1\n",
    "        return num\n",
    "\n",
    "    def peek(self) -> int:\n",
    "        \"\"\"访问栈顶元素\"\"\"\n",
    "        # 判空处理\n",
    "        if not self.__peek:\n",
    "            return None\n",
    "        return self.__peek.val\n",
    "\n",
    "    def to_list(self) -> list:\n",
    "        \"\"\"转为列表用于打印\"\"\"\n",
    "        arr = []\n",
    "        node = self.__peek\n",
    "        while node:\n",
    "            arr.append(node.val)\n",
    "            node = node.next\n",
    "        arr.reverse()\n",
    "        return arr"
   ],
   "metadata": {
    "collapsed": false,
    "ExecuteTime": {
     "end_time": "2023-09-17T14:19:54.773475Z",
     "start_time": "2023-09-17T14:19:54.039908400Z"
    }
   }
  },
  {
   "cell_type": "code",
   "execution_count": 28,
   "outputs": [
    {
     "name": "stdout",
     "output_type": "stream",
     "text": [
      "栈 stack = [1, 3, 2, 5, 4]\n",
      "栈顶元素 peek = 4\n",
      "出栈元素 pop = 4\n",
      "出栈后 stack = [1, 3, 2, 5]\n",
      "栈的长度 size = 4\n",
      "栈是否为空 = False\n"
     ]
    }
   ],
   "source": [
    "# 初始化栈\n",
    "stack = LinkedListStack()\n",
    "\n",
    "# 元素入栈\n",
    "stack.push(1)\n",
    "stack.push(3)\n",
    "stack.push(2)\n",
    "stack.push(5)\n",
    "stack.push(4)\n",
    "print(\"栈 stack =\", stack.to_list())\n",
    "\n",
    "# 访问栈顶元素\n",
    "peek: int = stack.peek()\n",
    "print(\"栈顶元素 peek =\", peek)\n",
    "\n",
    "# 元素出栈\n",
    "pop: int = stack.pop()\n",
    "print(\"出栈元素 pop =\", pop)\n",
    "print(\"出栈后 stack =\", stack.to_list())\n",
    "\n",
    "# 获取栈的长度\n",
    "size: int = stack.size()\n",
    "print(\"栈的长度 size =\", size)\n",
    "\n",
    "# 判断是否为空\n",
    "is_empty: bool = stack.is_empty()\n",
    "print(\"栈是否为空 =\", is_empty)"
   ],
   "metadata": {
    "collapsed": false,
    "ExecuteTime": {
     "end_time": "2023-09-17T14:19:54.774475600Z",
     "start_time": "2023-09-17T14:19:54.048984800Z"
    }
   }
  },
  {
   "cell_type": "markdown",
   "source": [
    "#### 基于数组的实现\n",
    "\n",
    "使用数组实现栈时，我们可以将数组的尾部作为栈顶。入栈与出栈操作分别对应在数组尾部添加元素与删除元素，时间复杂度都为 $O(1)$ 。由于入栈的元素可能会源源不断地增加，因此我们可以使用动态数组，这样就无须自行处理数组扩容问题。"
   ],
   "metadata": {
    "collapsed": false
   }
  },
  {
   "cell_type": "code",
   "execution_count": 29,
   "outputs": [],
   "source": [
    "#| code-fold: true\n",
    "\n",
    "class ArrayStack:\n",
    "    \"\"\"基于数组实现的栈\"\"\"\n",
    "\n",
    "    def __init__(self):\n",
    "        \"\"\"构造方法\"\"\"\n",
    "        self.__stack: list = []\n",
    "\n",
    "    def size(self) -> int:\n",
    "        \"\"\"获取栈的长度\"\"\"\n",
    "        return len(self.__stack)\n",
    "\n",
    "    def is_empty(self) -> bool:\n",
    "        \"\"\"判断栈是否为空\"\"\"\n",
    "        return self.__stack == []\n",
    "\n",
    "    def push(self, item: int):\n",
    "        \"\"\"入栈\"\"\"\n",
    "        self.__stack.append(item)\n",
    "\n",
    "    def pop(self) -> int:\n",
    "        \"\"\"出栈\"\"\"\n",
    "        if self.is_empty():\n",
    "            raise IndexError(\"栈为空\")\n",
    "        return self.__stack.pop()\n",
    "\n",
    "    def peek(self) -> int:\n",
    "        \"\"\"访问栈顶元素\"\"\"\n",
    "        if self.is_empty():\n",
    "            raise IndexError(\"栈为空\")\n",
    "        return self.__stack[-1]\n",
    "\n",
    "    def to_list(self) -> list:\n",
    "        \"\"\"返回列表用于打印\"\"\"\n",
    "        return self.__stack"
   ],
   "metadata": {
    "collapsed": false,
    "ExecuteTime": {
     "end_time": "2023-09-17T14:19:54.774475600Z",
     "start_time": "2023-09-17T14:19:54.057081500Z"
    }
   }
  },
  {
   "cell_type": "code",
   "execution_count": 30,
   "outputs": [
    {
     "name": "stdout",
     "output_type": "stream",
     "text": [
      "栈 stack = [1, 3, 2, 5, 4]\n",
      "栈顶元素 = 4\n",
      "出栈元素 pop = 4\n",
      "出栈后 stack = [1, 3, 2, 5]\n",
      "栈的长度 stack = 4\n",
      "栈是否为空 = False\n"
     ]
    }
   ],
   "source": [
    "# 初始化栈\n",
    "stack = ArrayStack()\n",
    "\n",
    "# 元素入栈\n",
    "stack.push(1)\n",
    "stack.push(3)\n",
    "stack.push(2)\n",
    "stack.push(5)\n",
    "stack.push(4)\n",
    "print(\"栈 stack =\", stack.to_list())\n",
    "\n",
    "# 访问栈顶元素\n",
    "peek: int = stack.peek()\n",
    "print(\"栈顶元素 =\", peek)\n",
    "\n",
    "# 元素出栈\n",
    "pop: int = stack.pop()\n",
    "print(\"出栈元素 pop =\", pop)\n",
    "print(\"出栈后 stack =\", stack.to_list())\n",
    "\n",
    "# 获取栈的长度\n",
    "size: int = stack.size()\n",
    "print(\"栈的长度 stack =\", size)\n",
    "\n",
    "# 判断是否为空\n",
    "is_empty: bool = stack.is_empty()\n",
    "print(\"栈是否为空 =\", is_empty)"
   ],
   "metadata": {
    "collapsed": false,
    "ExecuteTime": {
     "end_time": "2023-09-17T14:19:54.775477900Z",
     "start_time": "2023-09-17T14:19:54.066419500Z"
    }
   }
  },
  {
   "cell_type": "markdown",
   "source": [
    "### 两种实现对比\n",
    "\n",
    "#### 支持操作\n",
    "\n",
    "两种实现都支持栈定义中的各项操作。数组实现额外支持随机访问，但这已超出了栈的定义范畴，因此一般不会用到。\n",
    "\n",
    "#### 时间效率\n",
    "\n",
    "在基于数组的实现中，入栈和出栈操作都是在预先分配好的连续内存中进行，具有很好的缓存本地性，因此效率较高。然而，如果入栈时超出数组容量，会触发扩容机制，导致该次入栈操作的时间复杂度变为 $O(n)$ 。\n",
    "\n",
    "在链表实现中，链表的扩容非常灵活，不存在上述数组扩容时效率降低的问题。但是，入栈操作需要初始化节点对象并修改指针，因此效率相对较低。不过，如果入栈元素本身就是节点对象，那么可以省去初始化步骤，从而提高效率。\n",
    "\n",
    "综上所述，当入栈与出栈操作的元素是基本数据类型时，例如 `int` 或 `double` ，我们可以得出以下结论。\n",
    "\n",
    "- 基于数组实现的栈在触发扩容时效率会降低，但由于扩容是低频操作，因此平均效率更高。\n",
    "\n",
    "- 基于链表实现的栈可以提供更加稳定的效率表现。\n",
    "\n",
    "#### 空间效率\n",
    "\n",
    "在初始化列表时，系统会为列表分配“初始容量”，该容量可能超过实际需求。并且，扩容机制通常是按照特定倍率（例如 2 倍）进行扩容，扩容后的容量也可能超出实际需求。因此，**基于数组实现的栈可能造成一定的空间浪费**。\n",
    "\n",
    "然而，由于链表节点需要额外存储指针，**因此链表节点占用的空间相对较大**。\n",
    "\n",
    "综上，我们不能简单地确定哪种实现更加节省内存，需要针对具体情况进行分析。\n",
    "\n",
    "### 栈典型应用\n",
    "\n",
    "- **浏览器中的后退与前进、软件中的撤销与反撤销**。每当我们打开新的网页，浏览器就会将上一个网页执行入栈，这样我们就可以通过后退操作回到上一页面。后退操作实际上是在执行出栈。如果要同时支持后退和前进，那么需要两个栈来配合实现。\n",
    "\n",
    "- **程序内存管理**。每次调用函数时，系统都会在栈顶添加一个栈帧，用于记录函数的上下文信息。在递归函数中，向下递推阶段会不断执行入栈操作，而向上回溯阶段则会执行出栈操作。"
   ],
   "metadata": {
    "collapsed": false
   }
  },
  {
   "cell_type": "markdown",
   "source": [
    "## 队列\n",
    "\n",
    "「队列 queue」是一种遵循先入先出规则的线性数据结构。顾名思义，队列模拟了排队现象，即新来的人不断加入队列的尾部，而位于队列头部的人逐个离开。我们将队列的头部称为“队首”，尾部称为“队尾”，将把元素加入队尾的操作称为“入队”，删除队首元素的操作称为“出队”。\n",
    "\n",
    "### 队列常用操作"
   ],
   "metadata": {
    "collapsed": false
   }
  },
  {
   "cell_type": "code",
   "execution_count": 31,
   "outputs": [
    {
     "name": "stdout",
     "output_type": "stream",
     "text": [
      "队列 que = deque([1, 3, 2, 5, 4])\n",
      "队首元素 front = 1\n",
      "出队元素 pop = 1\n",
      "出队后 que = deque([3, 2, 5, 4])\n",
      "队列长度 size = 4\n",
      "队列是否为空 = False\n"
     ]
    }
   ],
   "source": [
    "from collections import deque\n",
    "\n",
    "# 初始化队列\n",
    "# 在 Python 中，我们一般将双向队列类 deque 看作队列使用\n",
    "# 虽然 queue.Queue() 是纯正的队列类，但不太好用，因此不建议\n",
    "que: deque[int] = deque()\n",
    "\n",
    "# 元素入队\n",
    "que.append(1)\n",
    "que.append(3)\n",
    "que.append(2)\n",
    "que.append(5)\n",
    "que.append(4)\n",
    "print(\"队列 que =\", que)\n",
    "\n",
    "# 访问队首元素\n",
    "front: int = que[0]\n",
    "print(\"队首元素 front =\", front)\n",
    "\n",
    "# 元素出队\n",
    "pop: int = que.popleft()\n",
    "print(\"出队元素 pop =\", pop)\n",
    "print(\"出队后 que =\", que)\n",
    "\n",
    "# 获取队列长度\n",
    "size: int = len(que)\n",
    "print(\"队列长度 size =\", size)\n",
    "\n",
    "# 判断 队列是否为空\n",
    "is_empty: bool = len(que) == 0\n",
    "print(\"队列是否为空 =\", is_empty)"
   ],
   "metadata": {
    "collapsed": false,
    "ExecuteTime": {
     "end_time": "2023-09-17T14:19:54.775477900Z",
     "start_time": "2023-09-17T14:19:54.098949Z"
    }
   }
  },
  {
   "cell_type": "markdown",
   "source": [
    "### 队列实现\n",
    "\n",
    "为了实现队列，我们需要一种数据结构，可以在一端添加元素，并在另一端删除元素。因此，链表和数组都可以用来实现队列。\n",
    "\n",
    "#### 基于链表的实现\n",
    "\n",
    "我们可以将链表的“头节点”和“尾节点”分别视为“队首”和“队尾”，规定队尾仅可添加节点，队首仅可删除节点。"
   ],
   "metadata": {
    "collapsed": false
   }
  },
  {
   "cell_type": "code",
   "execution_count": 32,
   "outputs": [],
   "source": [
    "# code-fold: true\n",
    "\n",
    "class LinkedListQueue:\n",
    "    \"\"\"基于链表实现的队列\"\"\"\n",
    "\n",
    "    def __init__(self):\n",
    "        \"\"\"构造方法\"\"\"\n",
    "        self.__front: ListNode | None = None  # 头节点 front\n",
    "        self.__rear: ListNode | None = None   # 尾节点 rear\n",
    "        self.__size: int = 0\n",
    "\n",
    "    def size(self) -> int:\n",
    "        \"\"\"获取队列长度\"\"\"\n",
    "        return self.__size\n",
    "\n",
    "    def is_empty(self) -> bool:\n",
    "        \"\"\"判断队列是否为空\"\"\"\n",
    "        return not self.__front\n",
    "\n",
    "    def push(self, num: int):\n",
    "        \"\"\"入队\"\"\"\n",
    "        # 尾结点后添加 num\n",
    "        node = ListNode(num)\n",
    "        # 如果队列为空，则令头尾节点都指向该节点\n",
    "        if self.__front is None:\n",
    "            self.__front = node\n",
    "            self.__rear = node\n",
    "        # 如果队列不为空，则将该节点添加到尾结点后\n",
    "        else:\n",
    "            self.__rear.next = node\n",
    "            self.__rear = node\n",
    "        self.__size += 1\n",
    "\n",
    "    def peek(self) -> int:\n",
    "        \"\"\"访问队首元素\"\"\"\n",
    "        if self.is_empty():\n",
    "            raise IndexError(\"队列为空\")\n",
    "        return self.__front.val\n",
    "\n",
    "    def pop(self) -> int:\n",
    "        \"\"\"出队\"\"\"\n",
    "        num = self.peek()\n",
    "        # 删除头节点\n",
    "        self.__front = self.__front.next\n",
    "        self.__size -= 1\n",
    "        return num\n",
    "\n",
    "    def to_list(self) -> list:\n",
    "        \"\"\"转为列表用于打印\"\"\"\n",
    "        queue = []\n",
    "        temp = self.__front\n",
    "        while temp:\n",
    "            queue.append(temp.val)\n",
    "            temp = temp.next\n",
    "        return queue"
   ],
   "metadata": {
    "collapsed": false,
    "ExecuteTime": {
     "end_time": "2023-09-17T14:19:54.776476200Z",
     "start_time": "2023-09-17T14:19:54.113357400Z"
    }
   }
  },
  {
   "cell_type": "code",
   "execution_count": 33,
   "outputs": [
    {
     "name": "stdout",
     "output_type": "stream",
     "text": [
      "队列 queue = [1, 3, 2, 5, 4]\n",
      "队首元素 front = 1\n",
      "出队元素 pop = 1\n",
      "出队后 queue = [3, 2, 5, 4]\n",
      "队列长度 size = 4\n",
      "队列是否为空 = False\n"
     ]
    }
   ],
   "source": [
    "# 初始化队列\n",
    "queue = LinkedListQueue()\n",
    "\n",
    "# 元素入队\n",
    "queue.push(1)\n",
    "queue.push(3)\n",
    "queue.push(2)\n",
    "queue.push(5)\n",
    "queue.push(4)\n",
    "print(\"队列 queue =\", queue.to_list())\n",
    "\n",
    "# 访问队首元素\n",
    "peek: int = queue.peek()\n",
    "print(\"队首元素 front =\", peek)\n",
    "\n",
    "# 元素出队\n",
    "pop_front: int = queue.pop()\n",
    "print(\"出队元素 pop =\", pop_front)\n",
    "print(\"出队后 queue =\", queue.to_list())\n",
    "\n",
    "# 获取队列的长度\n",
    "size: int = queue.size()\n",
    "print(\"队列长度 size =\", size)\n",
    "\n",
    "# 判断队列是否为空\n",
    "is_empty: bool = queue.is_empty()\n",
    "print(\"队列是否为空 =\", is_empty)"
   ],
   "metadata": {
    "collapsed": false,
    "ExecuteTime": {
     "end_time": "2023-09-17T14:19:54.776476200Z",
     "start_time": "2023-09-17T14:19:54.124710800Z"
    }
   }
  },
  {
   "cell_type": "markdown",
   "source": [
    "#### 基于数组的实现\n",
    "\n",
    "由于数组删除首元素的时间复杂度为 $O(n)$ ，这会导致出队操作效率较低。然而，我们可以采用以下巧妙方法来避免这个问题。\n",
    "\n",
    "我们可以使用一个变量 `front` 指向队首元素的索引，并维护一个变量 `size` 用于记录队列长度。定义 `rear = front + size` ，这个公式计算出的 `rear` 指向队尾元素之后的下一个位置。基于此设计，**数组中包含元素的有效区间为 `[front, rear - 1]`**。\n",
    "\n",
    "- 入队操作：将输入元素赋值给 `rear` 索引处，并将 `size` 增加 1 。\n",
    "\n",
    "- 出队操作：只需将 `front` 增加 1 ，并将 `size` 减少 1 。\n",
    "\n",
    "可以看到，入队和出队操作都只需进行一次操作，时间复杂度均为 $O(1)$ 。\n",
    "\n",
    "你可能会发现一个问题：在不断进行入队和出队的过程中，`front` 和 `rear` 都在向右移动，**当它们到达数组尾部时就无法继续移动了**。为解决此问题，我们可以将数组视为首尾相接的“环形数组”。\n",
    "\n",
    "对于环形数组，我们需要让 `front` 或 `rear` 在越过数组尾部时，直接回到数组头部继续遍历。这种周期性规律可以通过“取余操作”来实现，代码如下所示。"
   ],
   "metadata": {
    "collapsed": false
   }
  },
  {
   "cell_type": "code",
   "execution_count": 33,
   "outputs": [],
   "source": [],
   "metadata": {
    "collapsed": false,
    "ExecuteTime": {
     "end_time": "2023-09-17T14:19:54.776476200Z",
     "start_time": "2023-09-17T14:19:54.133383Z"
    }
   }
  },
  {
   "cell_type": "code",
   "execution_count": 33,
   "outputs": [],
   "source": [],
   "metadata": {
    "collapsed": false,
    "ExecuteTime": {
     "end_time": "2023-09-17T14:19:54.776476200Z",
     "start_time": "2023-09-17T14:19:54.138017100Z"
    }
   }
  },
  {
   "cell_type": "code",
   "execution_count": 33,
   "outputs": [],
   "source": [],
   "metadata": {
    "collapsed": false,
    "ExecuteTime": {
     "end_time": "2023-09-17T14:19:54.777474100Z",
     "start_time": "2023-09-17T14:19:54.143590600Z"
    }
   }
  },
  {
   "cell_type": "code",
   "execution_count": 33,
   "outputs": [],
   "source": [],
   "metadata": {
    "collapsed": false,
    "ExecuteTime": {
     "end_time": "2023-09-17T14:19:54.777474100Z",
     "start_time": "2023-09-17T14:19:54.149999200Z"
    }
   }
  },
  {
   "cell_type": "code",
   "execution_count": 33,
   "outputs": [],
   "source": [],
   "metadata": {
    "collapsed": false,
    "ExecuteTime": {
     "end_time": "2023-09-17T14:19:54.777474100Z",
     "start_time": "2023-09-17T14:19:54.155042300Z"
    }
   }
  },
  {
   "cell_type": "code",
   "execution_count": 33,
   "outputs": [],
   "source": [],
   "metadata": {
    "collapsed": false,
    "ExecuteTime": {
     "end_time": "2023-09-17T14:19:54.777474100Z",
     "start_time": "2023-09-17T14:19:54.159449300Z"
    }
   }
  },
  {
   "cell_type": "code",
   "execution_count": 33,
   "outputs": [],
   "source": [],
   "metadata": {
    "collapsed": false,
    "ExecuteTime": {
     "end_time": "2023-09-17T14:19:54.778840800Z",
     "start_time": "2023-09-17T14:19:54.163092400Z"
    }
   }
  },
  {
   "cell_type": "code",
   "execution_count": 33,
   "outputs": [],
   "source": [],
   "metadata": {
    "collapsed": false,
    "ExecuteTime": {
     "end_time": "2023-09-17T14:19:54.778840800Z",
     "start_time": "2023-09-17T14:19:54.168942200Z"
    }
   }
  },
  {
   "cell_type": "code",
   "execution_count": 33,
   "outputs": [],
   "source": [],
   "metadata": {
    "collapsed": false,
    "ExecuteTime": {
     "end_time": "2023-09-17T14:19:54.779851300Z",
     "start_time": "2023-09-17T14:19:54.174679Z"
    }
   }
  },
  {
   "cell_type": "code",
   "execution_count": 33,
   "outputs": [],
   "source": [],
   "metadata": {
    "collapsed": false,
    "ExecuteTime": {
     "end_time": "2023-09-17T14:19:54.779851300Z",
     "start_time": "2023-09-17T14:19:54.180090900Z"
    }
   }
  },
  {
   "cell_type": "code",
   "execution_count": 33,
   "outputs": [],
   "source": [],
   "metadata": {
    "collapsed": false,
    "ExecuteTime": {
     "end_time": "2023-09-17T14:19:54.780851700Z",
     "start_time": "2023-09-17T14:19:54.184929900Z"
    }
   }
  },
  {
   "cell_type": "code",
   "execution_count": 33,
   "outputs": [],
   "source": [],
   "metadata": {
    "collapsed": false,
    "ExecuteTime": {
     "end_time": "2023-09-17T14:19:54.781361300Z",
     "start_time": "2023-09-17T14:19:54.189473100Z"
    }
   }
  },
  {
   "cell_type": "code",
   "execution_count": 33,
   "outputs": [],
   "source": [],
   "metadata": {
    "collapsed": false,
    "ExecuteTime": {
     "end_time": "2023-09-17T14:19:54.781361300Z",
     "start_time": "2023-09-17T14:19:54.191481700Z"
    }
   }
  },
  {
   "cell_type": "code",
   "execution_count": 33,
   "outputs": [],
   "source": [],
   "metadata": {
    "collapsed": false,
    "ExecuteTime": {
     "end_time": "2023-09-17T14:19:54.781361300Z",
     "start_time": "2023-09-17T14:19:54.195207800Z"
    }
   }
  },
  {
   "cell_type": "code",
   "execution_count": 33,
   "outputs": [],
   "source": [],
   "metadata": {
    "collapsed": false,
    "ExecuteTime": {
     "end_time": "2023-09-17T14:19:54.782371700Z",
     "start_time": "2023-09-17T14:19:54.199673100Z"
    }
   }
  },
  {
   "cell_type": "code",
   "execution_count": 33,
   "outputs": [],
   "source": [],
   "metadata": {
    "collapsed": false,
    "ExecuteTime": {
     "end_time": "2023-09-17T14:19:54.782371700Z",
     "start_time": "2023-09-17T14:19:54.204756700Z"
    }
   }
  },
  {
   "cell_type": "markdown",
   "source": [
    "::: {.callout-tip title=\"To be continued\"}\n",
    "- [队列](https://www.hello-algo.com/chapter_stack_and_queue/queue/)\n",
    ":::"
   ],
   "metadata": {
    "collapsed": false
   }
  }
 ],
 "metadata": {
  "kernelspec": {
   "display_name": "Python 3",
   "language": "python",
   "name": "python3"
  },
  "language_info": {
   "codemirror_mode": {
    "name": "ipython",
    "version": 2
   },
   "file_extension": ".py",
   "mimetype": "text/x-python",
   "name": "python",
   "nbconvert_exporter": "python",
   "pygments_lexer": "ipython2",
   "version": "2.7.6"
  }
 },
 "nbformat": 4,
 "nbformat_minor": 0
}
