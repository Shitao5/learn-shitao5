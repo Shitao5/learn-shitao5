{
 "cells": [
  {
   "cell_type": "raw",
   "source": [
    "---\n",
    "title: \"Python 神经网络编程\"\n",
    "date: \"2023-12-09\"\n",
    "image: \"cover.png\"\n",
    "categories: \n",
    "  - Python\n",
    "  - Deep Learning\n",
    "---"
   ],
   "metadata": {
    "collapsed": false
   },
   "id": "f06ba07bd02d9181"
  },
  {
   "cell_type": "markdown",
   "source": [
    "\n",
    "::: {.callout-note title='Progress'}\n",
    "<!-- `r stfun::progress(215, 215)` -->\n",
    "Learning Progress: Completed.🥇\n",
    "\n",
    "读后感：[读《Python 神经网络编程》](https://shitao5.org/posts/sjwlbc/)。\n",
    ":::\n",
    "\n",
    "::: {.callout-tip title=\"Learning Source\"}\n",
    "- <https://book.douban.com/subject/30192800/>\n",
    ":::"
   ],
   "metadata": {
    "collapsed": false
   },
   "id": "434ee0430a99fb51"
  },
  {
   "cell_type": "markdown",
   "source": [
    "# 神经网络如何工作\n",
    "\n",
    "- 更多有趣的问题是没有一个简单的数学公式将输出和输入关联起来的。这就是我们需要诸如神经网络这样相对成熟而复杂的方法的原因。\n",
    "\n",
    "- 我们并未像在学校里求解数学和科学问题时所做的一样一步到位，精确求解问题。相反，我们尝试得到一个答案，并多次改进答案，这是一种非常不同的方法。一些人将这种方法称为迭代，意思是持续地、一点一点地改进答案。\n",
    "\n",
    "- 在机器学习中，这是一个重要的思路。我们应该进行适度改进（moderate）。也就是说，我们不要使改进过于激烈。我们采用 $\\Delta A$ 几分之一的一个变化值，而不是采用整个 $\\Delta A$，充满激情地跳跃到每一个新的 $A$ 值。这种自我节制的调整，还带来了一个非常强大、行之有效的“副作用”。当训练数据本身不能确信为完全正确并且包含在现实世界测量中普遍出现的错误或噪声这两种情况时，有节制的调整可以抑制这些错误或噪声的影响。这种方法是的错误或噪声得到了调解和缓和。\n",
    "\n",
    "# 使用 Python 进行 DIY\n",
    "\n",
    "- <p>优秀的程序员、计算机科学家和数学家，只要可能，都尽力创建一般代码，而不是具体的代码。这是一种好习惯，它迫使我们以一种更深更广泛的使用方式思考求解问题。</p>"
   ],
   "metadata": {
    "collapsed": false
   },
   "id": "eaac487c110dacf9"
  },
  {
   "cell_type": "markdown",
   "source": [
    "使用 MNIST 尝试构建神经网络。"
   ],
   "metadata": {
    "collapsed": false
   },
   "id": "ed0fd6d6debfbef0"
  },
  {
   "cell_type": "code",
   "execution_count": 1,
   "outputs": [],
   "source": [
    "import numpy as np\n",
    "import matplotlib.pyplot as plt\n",
    "import scipy.special\n",
    "%matplotlib inline"
   ],
   "metadata": {
    "collapsed": false,
    "ExecuteTime": {
     "end_time": "2023-12-10T12:13:21.484155900Z",
     "start_time": "2023-12-10T12:13:18.403204600Z"
    }
   },
   "id": "81a86fb7e674cb1a"
  },
  {
   "cell_type": "code",
   "execution_count": 2,
   "outputs": [],
   "source": [
    "training_data_file = open(\"mnist_dataset/mnist_train_100.csv\", \"r\")\n",
    "training_data_list = training_data_file.readlines()\n",
    "training_data_file.close()"
   ],
   "metadata": {
    "collapsed": false,
    "ExecuteTime": {
     "end_time": "2023-12-10T12:13:21.521043400Z",
     "start_time": "2023-12-10T12:13:21.482970500Z"
    }
   },
   "id": "2c2211b222770ec8"
  },
  {
   "cell_type": "code",
   "execution_count": 3,
   "outputs": [
    {
     "data": {
      "text/plain": "<matplotlib.image.AxesImage at 0x1b365857da0>"
     },
     "execution_count": 3,
     "metadata": {},
     "output_type": "execute_result"
    },
    {
     "data": {
      "text/plain": "<Figure size 640x480 with 1 Axes>",
      "image/png": "[encoded data removed]"
     },
     "metadata": {},
     "output_type": "display_data"
    }
   ],
   "source": [
    "all_values = training_data_list[0].split(\",\")\n",
    "image_array = np.asfarray(all_values[1:]).reshape((28, 28))\n",
    "plt.imshow(image_array, cmap=\"Greys\", interpolation=\"none\")"
   ],
   "metadata": {
    "collapsed": false,
    "ExecuteTime": {
     "end_time": "2023-12-10T12:13:21.900293700Z",
     "start_time": "2023-12-10T12:13:21.517168900Z"
    }
   },
   "id": "42f5590a93983cd9"
  },
  {
   "cell_type": "markdown",
   "source": [
    "需要做的第一件事情是将输入颜色值从较大的 0 到 255 的范围，缩放至较小的 0.01 到 1.0 的范围。我们刻意选择 0.01 作为范围最低点，是为了避免先前观察到的 0 值输入最终会认为地造成权重更新失败。我们没有选择 0.99 作为输入的上限值，是因为不需要避免输入 1.0 会造成这个问题。我们只需要避免输出值为 1.0："
   ],
   "metadata": {
    "collapsed": false
   },
   "id": "b61f05f12acfa5d7"
  },
  {
   "cell_type": "code",
   "execution_count": 4,
   "outputs": [],
   "source": [
    "scaled_input = (np.asfarray(all_values[1:]) / 255.0 * 0.99) + 0.01"
   ],
   "metadata": {
    "collapsed": false,
    "ExecuteTime": {
     "end_time": "2023-12-10T12:13:21.903499400Z",
     "start_time": "2023-12-10T12:13:21.878939400Z"
    }
   },
   "id": "ee4131fa81d37b58"
  },
  {
   "cell_type": "markdown",
   "source": [
    "创建并训练神经网络："
   ],
   "metadata": {
    "collapsed": false
   },
   "id": "fc53450862f06eda"
  },
  {
   "cell_type": "code",
   "execution_count": 5,
   "outputs": [],
   "source": [
    "#| code-fold: true\n",
    "class neuralNetwork:\n",
    "    \n",
    "    # initialise the neural network\n",
    "    def __init__(self, inputnodes, hiddennodes, outputnodes, learningrate):\n",
    "        # set number of nodes in each input. hidden, output layer\n",
    "        self.inodes = inputnodes\n",
    "        self.hnodes = hiddennodes\n",
    "        self.onodes = outputnodes\n",
    "        \n",
    "        # weights inside the arrays are w_i_j, where links is from node i to node j in the next layer\n",
    "        self.wih = np.random.normal(0.0, pow(self.inodes, -0.5), (self.hnodes, self.inodes))\n",
    "        self.who = np.random.normal(0.0, pow(self.hnodes, -0.5), (self.onodes, self.hnodes))\n",
    "        \n",
    "        # learning rate\n",
    "        self.lr = learningrate\n",
    "        \n",
    "        # activation function is the sigmoid function\n",
    "        self.activation_function = lambda x: scipy.special.expit(x)\n",
    "        \n",
    "    # train the neural network\n",
    "    def train(self, inputs_list, targets_list):\n",
    "        # convert inputs list to 2d array\n",
    "        inputs = np.array(inputs_list, ndmin=2).T\n",
    "        targets = np.array(targets_list, ndmin=2).T\n",
    "        \n",
    "        # calculate signals into hidden layer\n",
    "        hidden_inputs = np.dot(self.wih, inputs)\n",
    "        # calculate the signal emerging from hidden layer\n",
    "        hidden_outputs = self.activation_function(hidden_inputs)\n",
    "        \n",
    "        # calculate signals into final output layer\n",
    "        final_inputs = np.dot(self.who, hidden_outputs)\n",
    "        # calculate the signals emerging from final output layer\n",
    "        final_outputs = self.activation_function(final_inputs)\n",
    "        \n",
    "        # output layer error is the (target - actual)\n",
    "        output_errors = targets - final_outputs\n",
    "        # hidden layer error is the output_errors, split by weights, recombined at hidden nodes\n",
    "        hidden_errors = np.dot(self.who.T, output_errors)\n",
    "        \n",
    "        # update the weights for the links between the hidden and output layers\n",
    "        self.who += self.lr * np.dot((output_errors * final_outputs * (1.0 - final_outputs)),\n",
    "                                     np.transpose(hidden_outputs))\n",
    "        # update the weights for the links between the input and hidden layers\n",
    "        self.wih += self.lr * np.dot((hidden_errors * hidden_outputs * (1.0 - hidden_outputs)),\n",
    "                                     np.transpose(inputs))\n",
    "        \n",
    "    # query the neural network\n",
    "    def query(self, inputs_list):\n",
    "        inputs = np.array(inputs_list, ndmin=2).T\n",
    "        \n",
    "        # calculate signals into hidden layer\n",
    "        hidden_inputs = np.dot(self.wih, inputs)\n",
    "        # calculate the signals emerging from hidden layer\n",
    "        hidden_outputs = self.activation_function(hidden_inputs)\n",
    "        \n",
    "        # calculate signals into final output layer\n",
    "        final_inputs = np.dot(self.who, hidden_outputs)\n",
    "        # calculate the signals emerging from final output layer\n",
    "        final_outputs = self.activation_function(final_inputs)\n",
    "        \n",
    "        return final_outputs"
   ],
   "metadata": {
    "collapsed": false,
    "ExecuteTime": {
     "end_time": "2023-12-10T12:13:22.021463100Z",
     "start_time": "2023-12-10T12:13:21.895365500Z"
    }
   },
   "id": "b135ae142e98b233"
  },
  {
   "cell_type": "code",
   "execution_count": 6,
   "outputs": [],
   "source": [
    "input_nodes = 28 * 28\n",
    "hidden_nodes = 200\n",
    "output_nodes = 10\n",
    "learning_rate = 0.1\n",
    "\n",
    "n = neuralNetwork(input_nodes, hidden_nodes, output_nodes, learning_rate)"
   ],
   "metadata": {
    "collapsed": false,
    "ExecuteTime": {
     "end_time": "2023-12-10T12:13:22.047371900Z",
     "start_time": "2023-12-10T12:13:21.906373500Z"
    }
   },
   "id": "fcb219cf2d2f660b"
  },
  {
   "cell_type": "code",
   "execution_count": 7,
   "outputs": [],
   "source": [
    "# train the neural network\n",
    "\n",
    "# epochs is the number of times the training data set is used for training\n",
    "epochs = 5\n",
    "\n",
    "for e in range(epochs): \n",
    "    # go through all records in the training data set\n",
    "    for record in training_data_list:\n",
    "        all_values = record.split(\",\")\n",
    "        inputs = (np.asfarray(all_values[1:]) / 255.0 * 0.99) + 0.01\n",
    "        targets = np.zeros(output_nodes) + 0.01\n",
    "        \n",
    "        # all_values[0] is the target label for this record\n",
    "        targets[int(all_values[0])] = 0.99\n",
    "        n.train(inputs, targets)"
   ],
   "metadata": {
    "collapsed": false,
    "ExecuteTime": {
     "end_time": "2023-12-10T12:13:22.970387400Z",
     "start_time": "2023-12-10T12:13:21.924801400Z"
    }
   },
   "id": "3400bf36e198aff2"
  },
  {
   "cell_type": "code",
   "execution_count": 8,
   "outputs": [],
   "source": [
    "# load the mnist test data CSV file into a list\n",
    "test_data_file = open(\"mnist_dataset/mnist_test_10.csv\", 'r')\n",
    "test_data_list = test_data_file.readlines()\n",
    "test_data_file.close()"
   ],
   "metadata": {
    "collapsed": false,
    "ExecuteTime": {
     "end_time": "2023-12-10T12:13:23.000694200Z",
     "start_time": "2023-12-10T12:13:22.972391200Z"
    }
   },
   "id": "709e5d5d5a43dcb5"
  },
  {
   "cell_type": "code",
   "execution_count": 9,
   "outputs": [],
   "source": [
    "# test the neual network\n",
    "scorecard = []\n",
    "\n",
    "# go through all the records in the test data set\n",
    "for record in test_data_list:\n",
    "    all_values = record.split(\",\")\n",
    "    correct_label = int(all_values[0])\n",
    "    inputs = (np.asfarray(all_values[1:]) / 255.0 * 0.99) + 0.01\n",
    "    outputs = n.query(inputs)\n",
    "    # the index of the highest value corresponds to the label\n",
    "    label = np.argmax(outputs)\n",
    "    # append correct or incorrect to list\n",
    "    if (label == correct_label):\n",
    "        scorecard.append(1)\n",
    "    else:\n",
    "        scorecard.append(0)"
   ],
   "metadata": {
    "collapsed": false,
    "ExecuteTime": {
     "end_time": "2023-12-10T12:13:23.025524900Z",
     "start_time": "2023-12-10T12:13:22.989186700Z"
    }
   },
   "id": "a6b491c7b4a7ff01"
  },
  {
   "cell_type": "code",
   "execution_count": 10,
   "outputs": [
    {
     "name": "stdout",
     "output_type": "stream",
     "text": [
      "performance =  0.6\n"
     ]
    }
   ],
   "source": [
    "# calculate the performance score, the fraction of correct answers\n",
    "scorecard_array = np.asfarray(scorecard)\n",
    "print(\"performance = \", scorecard_array.sum() / scorecard_array.size)"
   ],
   "metadata": {
    "collapsed": false,
    "ExecuteTime": {
     "end_time": "2023-12-10T12:13:23.058474700Z",
     "start_time": "2023-12-10T12:13:23.011270100Z"
    }
   },
   "id": "bbdb7d1a32f0a724"
  },
  {
   "cell_type": "markdown",
   "source": [
    "# 趣味盎然\n",
    "\n",
    "- 人类大脑在遭受损害后，其能力依然能够得到良好发挥，科学家对此深感震惊。这暗示着，神经网络将它们所学到的知识分布在几条链接权重上，也就是说，如果若干链接权重遭受了一定损害，神经网络也可以表现得相当好。这同时意味着，如果输入图像被损坏或不完整，神经网络也可以表现得相当好。\n",
    "\n",
    "- 虽然黑盒子（神经网络）已经学会如何求解问题，但是，其所学到的知识常常不能转化为对问题的理解和智慧。"
   ],
   "metadata": {
    "collapsed": false
   },
   "id": "a243a53040f4ab54"
  }
 ],
 "metadata": {
  "kernelspec": {
   "display_name": "Python 3",
   "language": "python",
   "name": "python3"
  },
  "language_info": {
   "codemirror_mode": {
    "name": "ipython",
    "version": 2
   },
   "file_extension": ".py",
   "mimetype": "text/x-python",
   "name": "python",
   "nbconvert_exporter": "python",
   "pygments_lexer": "ipython2",
   "version": "2.7.6"
  }
 },
 "nbformat": 4,
 "nbformat_minor": 5
}
