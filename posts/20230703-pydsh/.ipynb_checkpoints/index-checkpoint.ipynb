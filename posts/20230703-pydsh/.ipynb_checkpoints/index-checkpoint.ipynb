{
 "cells": [
  {
   "cell_type": "raw",
   "id": "35250294",
   "metadata": {},
   "source": [
    "---\n",
    "title: \"Python Data Science Handbook\"\n",
    "date: \"2023-07-03\"\n",
    "image: \"img.png\"\n",
    "categories: \n",
    "  - Data Science\n",
    "  - Python\n",
    "---"
   ]
  },
  {
   "cell_type": "raw",
   "id": "7c545cd6",
   "metadata": {},
   "source": [
    "::: {.callout-note title='Progress'}\n",
    "<!-- stfun::progress(3, 70) -->\n",
    "Learning Progress: 4.29%.\n",
    ":::\n",
    "\n",
    "::: {.callout-tip title=\"Learning Source\"}\n",
    "- <https://jakevdp.github.io/PythonDataScienceHandbook/>\n",
    ":::"
   ]
  },
  {
   "cell_type": "markdown",
   "id": "8ef54e79",
   "metadata": {},
   "source": [
    "# IPython Beyond Normal Python"
   ]
  },
  {
   "cell_type": "markdown",
   "id": "f33f28ac",
   "metadata": {},
   "source": [
    "## Help and Documentation in IPython\n",
    "\n",
    "If you play with this much, you'll notice that sometimes the `??` suffix doesn't display any source code: this is generally because the object in question is not implemented in Python, but in C or some other compiled extension language. If this is the case, the `??` suffix gives the same output as the `?` suffix. You'll find this particularly with many of Python's built-in objects and types.\n",
    "\n",
    "Though Python has no strictly enforced distinction between public/external attributes and private/internal attributes, by convention a preceding underscore is used to denote the latter. For clarity, these private methods and special methods are omitted from the list by default, but it's possible to list them by explicitly typing the underscore."
   ]
  },
  {
   "cell_type": "markdown",
   "id": "7bc2a704",
   "metadata": {},
   "source": [
    "## IPython Magic Commands\n",
    "\n",
    "As you begin developing more extensive code, you will likely find yourself working in IPython for interactive exploration, as well as a text editor to store code that you want to reuse. Rather than running this code in a new window, it can be convenient to run it within your IPython session. This can be done with the `%run` magic command."
   ]
  },
  {
   "cell_type": "code",
   "execution_count": 1,
   "id": "6d1d034f",
   "metadata": {},
   "outputs": [
    {
     "name": "stdout",
     "output_type": "stream",
     "text": [
      "1 squared is 1\n",
      "2 squared is 4\n",
      "3 squared is 9\n"
     ]
    }
   ],
   "source": [
    "%run myscript.py"
   ]
  },
  {
   "cell_type": "markdown",
   "id": "9aef8a46",
   "metadata": {},
   "source": [
    "Another example of a useful magic function is %timeit, which will automatically determine the execution time of the single-line Python statement that follows it. For example, we may want to check the performance of a list comprehension:"
   ]
  },
  {
   "cell_type": "code",
   "execution_count": 4,
   "id": "f86dcc63",
   "metadata": {},
   "outputs": [
    {
     "name": "stdout",
     "output_type": "stream",
     "text": [
      "43.5 µs ± 1.68 µs per loop (mean ± std. dev. of 7 runs, 10,000 loops each)\n"
     ]
    }
   ],
   "source": [
    "%timeit L = [n ** 2 for n in range(1000)]"
   ]
  },
  {
   "cell_type": "code",
   "execution_count": null,
   "id": "7bded98d",
   "metadata": {},
   "outputs": [],
   "source": []
  },
  {
   "cell_type": "code",
   "execution_count": null,
   "id": "b8214df4",
   "metadata": {},
   "outputs": [],
   "source": []
  },
  {
   "cell_type": "code",
   "execution_count": null,
   "id": "52326616",
   "metadata": {},
   "outputs": [],
   "source": []
  },
  {
   "cell_type": "code",
   "execution_count": null,
   "id": "40995a84",
   "metadata": {},
   "outputs": [],
   "source": []
  },
  {
   "cell_type": "code",
   "execution_count": null,
   "id": "1467308b",
   "metadata": {},
   "outputs": [],
   "source": []
  },
  {
   "cell_type": "code",
   "execution_count": null,
   "id": "9f7eab3a",
   "metadata": {},
   "outputs": [],
   "source": []
  },
  {
   "cell_type": "code",
   "execution_count": null,
   "id": "728d3ed3",
   "metadata": {},
   "outputs": [],
   "source": []
  },
  {
   "cell_type": "code",
   "execution_count": null,
   "id": "57b274c4",
   "metadata": {},
   "outputs": [],
   "source": []
  }
 ],
 "metadata": {
  "kernelspec": {
   "display_name": "Python 3 (ipykernel)",
   "language": "python",
   "name": "python3"
  },
  "language_info": {
   "codemirror_mode": {
    "name": "ipython",
    "version": 3
   },
   "file_extension": ".py",
   "mimetype": "text/x-python",
   "name": "python",
   "nbconvert_exporter": "python",
   "pygments_lexer": "ipython3",
   "version": "3.11.2"
  }
 },
 "nbformat": 4,
 "nbformat_minor": 5
}
